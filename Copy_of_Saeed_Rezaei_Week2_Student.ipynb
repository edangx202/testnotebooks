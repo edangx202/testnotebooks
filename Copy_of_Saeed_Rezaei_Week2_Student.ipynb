{
  "nbformat": 4,
  "nbformat_minor": 0,
  "metadata": {
    "colab": {
      "provenance": [],
      "machine_shape": "hm",
      "gpuClass": "premium",
      "gpuType": "T4"
    },
    "kernelspec": {
      "name": "python3",
      "display_name": "Python 3"
    },
    "language_info": {
      "name": "python"
    },
    "accelerator": "GPU",
    "gpuClass": "premium",
    "widgets": {
      "application/vnd.jupyter.widget-state+json": {
        "86ebfdad3bc34ab89bfae3490c7c0d10": {
          "model_module": "@jupyter-widgets/controls",
          "model_name": "HBoxModel",
          "model_module_version": "1.5.0",
          "state": {
            "_dom_classes": [],
            "_model_module": "@jupyter-widgets/controls",
            "_model_module_version": "1.5.0",
            "_model_name": "HBoxModel",
            "_view_count": null,
            "_view_module": "@jupyter-widgets/controls",
            "_view_module_version": "1.5.0",
            "_view_name": "HBoxView",
            "box_style": "",
            "children": [
              "IPY_MODEL_100391960d594563bea99a5bab98b2f4",
              "IPY_MODEL_807485a5d9244980a84a81edd1f97d82",
              "IPY_MODEL_7f67e7410e284897be9a8c3b87c6cb65"
            ],
            "layout": "IPY_MODEL_db30e2dfcc9244a19811b55a023ea415"
          }
        },
        "100391960d594563bea99a5bab98b2f4": {
          "model_module": "@jupyter-widgets/controls",
          "model_name": "HTMLModel",
          "model_module_version": "1.5.0",
          "state": {
            "_dom_classes": [],
            "_model_module": "@jupyter-widgets/controls",
            "_model_module_version": "1.5.0",
            "_model_name": "HTMLModel",
            "_view_count": null,
            "_view_module": "@jupyter-widgets/controls",
            "_view_module_version": "1.5.0",
            "_view_name": "HTMLView",
            "description": "",
            "description_tooltip": null,
            "layout": "IPY_MODEL_e9de76cee83b452e821df7dd77e6e85a",
            "placeholder": "​",
            "style": "IPY_MODEL_8e0e501c1cbf41d6977c59efff29ec6b",
            "value": "Downloading (…)lve/main/config.json: 100%"
          }
        },
        "807485a5d9244980a84a81edd1f97d82": {
          "model_module": "@jupyter-widgets/controls",
          "model_name": "FloatProgressModel",
          "model_module_version": "1.5.0",
          "state": {
            "_dom_classes": [],
            "_model_module": "@jupyter-widgets/controls",
            "_model_module_version": "1.5.0",
            "_model_name": "FloatProgressModel",
            "_view_count": null,
            "_view_module": "@jupyter-widgets/controls",
            "_view_module_version": "1.5.0",
            "_view_name": "ProgressView",
            "bar_style": "success",
            "description": "",
            "description_tooltip": null,
            "layout": "IPY_MODEL_5ca05c7e2be84b76b32c1f4ca604d1f0",
            "max": 665,
            "min": 0,
            "orientation": "horizontal",
            "style": "IPY_MODEL_0f46cb38dedb45949f30dea67af7fae9",
            "value": 665
          }
        },
        "7f67e7410e284897be9a8c3b87c6cb65": {
          "model_module": "@jupyter-widgets/controls",
          "model_name": "HTMLModel",
          "model_module_version": "1.5.0",
          "state": {
            "_dom_classes": [],
            "_model_module": "@jupyter-widgets/controls",
            "_model_module_version": "1.5.0",
            "_model_name": "HTMLModel",
            "_view_count": null,
            "_view_module": "@jupyter-widgets/controls",
            "_view_module_version": "1.5.0",
            "_view_name": "HTMLView",
            "description": "",
            "description_tooltip": null,
            "layout": "IPY_MODEL_a17a04f27dbe4c469b85496e79f8cbab",
            "placeholder": "​",
            "style": "IPY_MODEL_fbfffb2ba24a4ae58ef58252ee22d168",
            "value": " 665/665 [00:00&lt;00:00, 19.2kB/s]"
          }
        },
        "db30e2dfcc9244a19811b55a023ea415": {
          "model_module": "@jupyter-widgets/base",
          "model_name": "LayoutModel",
          "model_module_version": "1.2.0",
          "state": {
            "_model_module": "@jupyter-widgets/base",
            "_model_module_version": "1.2.0",
            "_model_name": "LayoutModel",
            "_view_count": null,
            "_view_module": "@jupyter-widgets/base",
            "_view_module_version": "1.2.0",
            "_view_name": "LayoutView",
            "align_content": null,
            "align_items": null,
            "align_self": null,
            "border": null,
            "bottom": null,
            "display": null,
            "flex": null,
            "flex_flow": null,
            "grid_area": null,
            "grid_auto_columns": null,
            "grid_auto_flow": null,
            "grid_auto_rows": null,
            "grid_column": null,
            "grid_gap": null,
            "grid_row": null,
            "grid_template_areas": null,
            "grid_template_columns": null,
            "grid_template_rows": null,
            "height": null,
            "justify_content": null,
            "justify_items": null,
            "left": null,
            "margin": null,
            "max_height": null,
            "max_width": null,
            "min_height": null,
            "min_width": null,
            "object_fit": null,
            "object_position": null,
            "order": null,
            "overflow": null,
            "overflow_x": null,
            "overflow_y": null,
            "padding": null,
            "right": null,
            "top": null,
            "visibility": null,
            "width": null
          }
        },
        "e9de76cee83b452e821df7dd77e6e85a": {
          "model_module": "@jupyter-widgets/base",
          "model_name": "LayoutModel",
          "model_module_version": "1.2.0",
          "state": {
            "_model_module": "@jupyter-widgets/base",
            "_model_module_version": "1.2.0",
            "_model_name": "LayoutModel",
            "_view_count": null,
            "_view_module": "@jupyter-widgets/base",
            "_view_module_version": "1.2.0",
            "_view_name": "LayoutView",
            "align_content": null,
            "align_items": null,
            "align_self": null,
            "border": null,
            "bottom": null,
            "display": null,
            "flex": null,
            "flex_flow": null,
            "grid_area": null,
            "grid_auto_columns": null,
            "grid_auto_flow": null,
            "grid_auto_rows": null,
            "grid_column": null,
            "grid_gap": null,
            "grid_row": null,
            "grid_template_areas": null,
            "grid_template_columns": null,
            "grid_template_rows": null,
            "height": null,
            "justify_content": null,
            "justify_items": null,
            "left": null,
            "margin": null,
            "max_height": null,
            "max_width": null,
            "min_height": null,
            "min_width": null,
            "object_fit": null,
            "object_position": null,
            "order": null,
            "overflow": null,
            "overflow_x": null,
            "overflow_y": null,
            "padding": null,
            "right": null,
            "top": null,
            "visibility": null,
            "width": null
          }
        },
        "8e0e501c1cbf41d6977c59efff29ec6b": {
          "model_module": "@jupyter-widgets/controls",
          "model_name": "DescriptionStyleModel",
          "model_module_version": "1.5.0",
          "state": {
            "_model_module": "@jupyter-widgets/controls",
            "_model_module_version": "1.5.0",
            "_model_name": "DescriptionStyleModel",
            "_view_count": null,
            "_view_module": "@jupyter-widgets/base",
            "_view_module_version": "1.2.0",
            "_view_name": "StyleView",
            "description_width": ""
          }
        },
        "5ca05c7e2be84b76b32c1f4ca604d1f0": {
          "model_module": "@jupyter-widgets/base",
          "model_name": "LayoutModel",
          "model_module_version": "1.2.0",
          "state": {
            "_model_module": "@jupyter-widgets/base",
            "_model_module_version": "1.2.0",
            "_model_name": "LayoutModel",
            "_view_count": null,
            "_view_module": "@jupyter-widgets/base",
            "_view_module_version": "1.2.0",
            "_view_name": "LayoutView",
            "align_content": null,
            "align_items": null,
            "align_self": null,
            "border": null,
            "bottom": null,
            "display": null,
            "flex": null,
            "flex_flow": null,
            "grid_area": null,
            "grid_auto_columns": null,
            "grid_auto_flow": null,
            "grid_auto_rows": null,
            "grid_column": null,
            "grid_gap": null,
            "grid_row": null,
            "grid_template_areas": null,
            "grid_template_columns": null,
            "grid_template_rows": null,
            "height": null,
            "justify_content": null,
            "justify_items": null,
            "left": null,
            "margin": null,
            "max_height": null,
            "max_width": null,
            "min_height": null,
            "min_width": null,
            "object_fit": null,
            "object_position": null,
            "order": null,
            "overflow": null,
            "overflow_x": null,
            "overflow_y": null,
            "padding": null,
            "right": null,
            "top": null,
            "visibility": null,
            "width": null
          }
        },
        "0f46cb38dedb45949f30dea67af7fae9": {
          "model_module": "@jupyter-widgets/controls",
          "model_name": "ProgressStyleModel",
          "model_module_version": "1.5.0",
          "state": {
            "_model_module": "@jupyter-widgets/controls",
            "_model_module_version": "1.5.0",
            "_model_name": "ProgressStyleModel",
            "_view_count": null,
            "_view_module": "@jupyter-widgets/base",
            "_view_module_version": "1.2.0",
            "_view_name": "StyleView",
            "bar_color": null,
            "description_width": ""
          }
        },
        "a17a04f27dbe4c469b85496e79f8cbab": {
          "model_module": "@jupyter-widgets/base",
          "model_name": "LayoutModel",
          "model_module_version": "1.2.0",
          "state": {
            "_model_module": "@jupyter-widgets/base",
            "_model_module_version": "1.2.0",
            "_model_name": "LayoutModel",
            "_view_count": null,
            "_view_module": "@jupyter-widgets/base",
            "_view_module_version": "1.2.0",
            "_view_name": "LayoutView",
            "align_content": null,
            "align_items": null,
            "align_self": null,
            "border": null,
            "bottom": null,
            "display": null,
            "flex": null,
            "flex_flow": null,
            "grid_area": null,
            "grid_auto_columns": null,
            "grid_auto_flow": null,
            "grid_auto_rows": null,
            "grid_column": null,
            "grid_gap": null,
            "grid_row": null,
            "grid_template_areas": null,
            "grid_template_columns": null,
            "grid_template_rows": null,
            "height": null,
            "justify_content": null,
            "justify_items": null,
            "left": null,
            "margin": null,
            "max_height": null,
            "max_width": null,
            "min_height": null,
            "min_width": null,
            "object_fit": null,
            "object_position": null,
            "order": null,
            "overflow": null,
            "overflow_x": null,
            "overflow_y": null,
            "padding": null,
            "right": null,
            "top": null,
            "visibility": null,
            "width": null
          }
        },
        "fbfffb2ba24a4ae58ef58252ee22d168": {
          "model_module": "@jupyter-widgets/controls",
          "model_name": "DescriptionStyleModel",
          "model_module_version": "1.5.0",
          "state": {
            "_model_module": "@jupyter-widgets/controls",
            "_model_module_version": "1.5.0",
            "_model_name": "DescriptionStyleModel",
            "_view_count": null,
            "_view_module": "@jupyter-widgets/base",
            "_view_module_version": "1.2.0",
            "_view_name": "StyleView",
            "description_width": ""
          }
        },
        "8fa7fe02cfd14296a2c10fb27f46758f": {
          "model_module": "@jupyter-widgets/controls",
          "model_name": "HBoxModel",
          "model_module_version": "1.5.0",
          "state": {
            "_dom_classes": [],
            "_model_module": "@jupyter-widgets/controls",
            "_model_module_version": "1.5.0",
            "_model_name": "HBoxModel",
            "_view_count": null,
            "_view_module": "@jupyter-widgets/controls",
            "_view_module_version": "1.5.0",
            "_view_name": "HBoxView",
            "box_style": "",
            "children": [
              "IPY_MODEL_db3d57f86bc64d11b4835374cc0672e9",
              "IPY_MODEL_2c253b0f7a964aee96ee394117aee34f",
              "IPY_MODEL_54601159a4af49e4bc71e66dbe6fba17"
            ],
            "layout": "IPY_MODEL_6097bac7d6df4cf68fab77bb5c970fab"
          }
        },
        "db3d57f86bc64d11b4835374cc0672e9": {
          "model_module": "@jupyter-widgets/controls",
          "model_name": "HTMLModel",
          "model_module_version": "1.5.0",
          "state": {
            "_dom_classes": [],
            "_model_module": "@jupyter-widgets/controls",
            "_model_module_version": "1.5.0",
            "_model_name": "HTMLModel",
            "_view_count": null,
            "_view_module": "@jupyter-widgets/controls",
            "_view_module_version": "1.5.0",
            "_view_name": "HTMLView",
            "description": "",
            "description_tooltip": null,
            "layout": "IPY_MODEL_aed723b6cdaa4e87bcc2108001e0fc00",
            "placeholder": "​",
            "style": "IPY_MODEL_2ef375c8bcc84ecd8371124080e18825",
            "value": "Downloading model.safetensors: 100%"
          }
        },
        "2c253b0f7a964aee96ee394117aee34f": {
          "model_module": "@jupyter-widgets/controls",
          "model_name": "FloatProgressModel",
          "model_module_version": "1.5.0",
          "state": {
            "_dom_classes": [],
            "_model_module": "@jupyter-widgets/controls",
            "_model_module_version": "1.5.0",
            "_model_name": "FloatProgressModel",
            "_view_count": null,
            "_view_module": "@jupyter-widgets/controls",
            "_view_module_version": "1.5.0",
            "_view_name": "ProgressView",
            "bar_style": "success",
            "description": "",
            "description_tooltip": null,
            "layout": "IPY_MODEL_57ca79016a8a412888dae93b68a5a90e",
            "max": 548105171,
            "min": 0,
            "orientation": "horizontal",
            "style": "IPY_MODEL_69891a3b3b7945498795a67cc43f47e5",
            "value": 548105171
          }
        },
        "54601159a4af49e4bc71e66dbe6fba17": {
          "model_module": "@jupyter-widgets/controls",
          "model_name": "HTMLModel",
          "model_module_version": "1.5.0",
          "state": {
            "_dom_classes": [],
            "_model_module": "@jupyter-widgets/controls",
            "_model_module_version": "1.5.0",
            "_model_name": "HTMLModel",
            "_view_count": null,
            "_view_module": "@jupyter-widgets/controls",
            "_view_module_version": "1.5.0",
            "_view_name": "HTMLView",
            "description": "",
            "description_tooltip": null,
            "layout": "IPY_MODEL_a8027de5342a44cbb6ce0d4ed44886aa",
            "placeholder": "​",
            "style": "IPY_MODEL_0616d11b5d1740878caa849d0e498514",
            "value": " 548M/548M [00:02&lt;00:00, 200MB/s]"
          }
        },
        "6097bac7d6df4cf68fab77bb5c970fab": {
          "model_module": "@jupyter-widgets/base",
          "model_name": "LayoutModel",
          "model_module_version": "1.2.0",
          "state": {
            "_model_module": "@jupyter-widgets/base",
            "_model_module_version": "1.2.0",
            "_model_name": "LayoutModel",
            "_view_count": null,
            "_view_module": "@jupyter-widgets/base",
            "_view_module_version": "1.2.0",
            "_view_name": "LayoutView",
            "align_content": null,
            "align_items": null,
            "align_self": null,
            "border": null,
            "bottom": null,
            "display": null,
            "flex": null,
            "flex_flow": null,
            "grid_area": null,
            "grid_auto_columns": null,
            "grid_auto_flow": null,
            "grid_auto_rows": null,
            "grid_column": null,
            "grid_gap": null,
            "grid_row": null,
            "grid_template_areas": null,
            "grid_template_columns": null,
            "grid_template_rows": null,
            "height": null,
            "justify_content": null,
            "justify_items": null,
            "left": null,
            "margin": null,
            "max_height": null,
            "max_width": null,
            "min_height": null,
            "min_width": null,
            "object_fit": null,
            "object_position": null,
            "order": null,
            "overflow": null,
            "overflow_x": null,
            "overflow_y": null,
            "padding": null,
            "right": null,
            "top": null,
            "visibility": null,
            "width": null
          }
        },
        "aed723b6cdaa4e87bcc2108001e0fc00": {
          "model_module": "@jupyter-widgets/base",
          "model_name": "LayoutModel",
          "model_module_version": "1.2.0",
          "state": {
            "_model_module": "@jupyter-widgets/base",
            "_model_module_version": "1.2.0",
            "_model_name": "LayoutModel",
            "_view_count": null,
            "_view_module": "@jupyter-widgets/base",
            "_view_module_version": "1.2.0",
            "_view_name": "LayoutView",
            "align_content": null,
            "align_items": null,
            "align_self": null,
            "border": null,
            "bottom": null,
            "display": null,
            "flex": null,
            "flex_flow": null,
            "grid_area": null,
            "grid_auto_columns": null,
            "grid_auto_flow": null,
            "grid_auto_rows": null,
            "grid_column": null,
            "grid_gap": null,
            "grid_row": null,
            "grid_template_areas": null,
            "grid_template_columns": null,
            "grid_template_rows": null,
            "height": null,
            "justify_content": null,
            "justify_items": null,
            "left": null,
            "margin": null,
            "max_height": null,
            "max_width": null,
            "min_height": null,
            "min_width": null,
            "object_fit": null,
            "object_position": null,
            "order": null,
            "overflow": null,
            "overflow_x": null,
            "overflow_y": null,
            "padding": null,
            "right": null,
            "top": null,
            "visibility": null,
            "width": null
          }
        },
        "2ef375c8bcc84ecd8371124080e18825": {
          "model_module": "@jupyter-widgets/controls",
          "model_name": "DescriptionStyleModel",
          "model_module_version": "1.5.0",
          "state": {
            "_model_module": "@jupyter-widgets/controls",
            "_model_module_version": "1.5.0",
            "_model_name": "DescriptionStyleModel",
            "_view_count": null,
            "_view_module": "@jupyter-widgets/base",
            "_view_module_version": "1.2.0",
            "_view_name": "StyleView",
            "description_width": ""
          }
        },
        "57ca79016a8a412888dae93b68a5a90e": {
          "model_module": "@jupyter-widgets/base",
          "model_name": "LayoutModel",
          "model_module_version": "1.2.0",
          "state": {
            "_model_module": "@jupyter-widgets/base",
            "_model_module_version": "1.2.0",
            "_model_name": "LayoutModel",
            "_view_count": null,
            "_view_module": "@jupyter-widgets/base",
            "_view_module_version": "1.2.0",
            "_view_name": "LayoutView",
            "align_content": null,
            "align_items": null,
            "align_self": null,
            "border": null,
            "bottom": null,
            "display": null,
            "flex": null,
            "flex_flow": null,
            "grid_area": null,
            "grid_auto_columns": null,
            "grid_auto_flow": null,
            "grid_auto_rows": null,
            "grid_column": null,
            "grid_gap": null,
            "grid_row": null,
            "grid_template_areas": null,
            "grid_template_columns": null,
            "grid_template_rows": null,
            "height": null,
            "justify_content": null,
            "justify_items": null,
            "left": null,
            "margin": null,
            "max_height": null,
            "max_width": null,
            "min_height": null,
            "min_width": null,
            "object_fit": null,
            "object_position": null,
            "order": null,
            "overflow": null,
            "overflow_x": null,
            "overflow_y": null,
            "padding": null,
            "right": null,
            "top": null,
            "visibility": null,
            "width": null
          }
        },
        "69891a3b3b7945498795a67cc43f47e5": {
          "model_module": "@jupyter-widgets/controls",
          "model_name": "ProgressStyleModel",
          "model_module_version": "1.5.0",
          "state": {
            "_model_module": "@jupyter-widgets/controls",
            "_model_module_version": "1.5.0",
            "_model_name": "ProgressStyleModel",
            "_view_count": null,
            "_view_module": "@jupyter-widgets/base",
            "_view_module_version": "1.2.0",
            "_view_name": "StyleView",
            "bar_color": null,
            "description_width": ""
          }
        },
        "a8027de5342a44cbb6ce0d4ed44886aa": {
          "model_module": "@jupyter-widgets/base",
          "model_name": "LayoutModel",
          "model_module_version": "1.2.0",
          "state": {
            "_model_module": "@jupyter-widgets/base",
            "_model_module_version": "1.2.0",
            "_model_name": "LayoutModel",
            "_view_count": null,
            "_view_module": "@jupyter-widgets/base",
            "_view_module_version": "1.2.0",
            "_view_name": "LayoutView",
            "align_content": null,
            "align_items": null,
            "align_self": null,
            "border": null,
            "bottom": null,
            "display": null,
            "flex": null,
            "flex_flow": null,
            "grid_area": null,
            "grid_auto_columns": null,
            "grid_auto_flow": null,
            "grid_auto_rows": null,
            "grid_column": null,
            "grid_gap": null,
            "grid_row": null,
            "grid_template_areas": null,
            "grid_template_columns": null,
            "grid_template_rows": null,
            "height": null,
            "justify_content": null,
            "justify_items": null,
            "left": null,
            "margin": null,
            "max_height": null,
            "max_width": null,
            "min_height": null,
            "min_width": null,
            "object_fit": null,
            "object_position": null,
            "order": null,
            "overflow": null,
            "overflow_x": null,
            "overflow_y": null,
            "padding": null,
            "right": null,
            "top": null,
            "visibility": null,
            "width": null
          }
        },
        "0616d11b5d1740878caa849d0e498514": {
          "model_module": "@jupyter-widgets/controls",
          "model_name": "DescriptionStyleModel",
          "model_module_version": "1.5.0",
          "state": {
            "_model_module": "@jupyter-widgets/controls",
            "_model_module_version": "1.5.0",
            "_model_name": "DescriptionStyleModel",
            "_view_count": null,
            "_view_module": "@jupyter-widgets/base",
            "_view_module_version": "1.2.0",
            "_view_name": "StyleView",
            "description_width": ""
          }
        },
        "a936a47b08cf4288a6c7236ef1597682": {
          "model_module": "@jupyter-widgets/controls",
          "model_name": "HBoxModel",
          "model_module_version": "1.5.0",
          "state": {
            "_dom_classes": [],
            "_model_module": "@jupyter-widgets/controls",
            "_model_module_version": "1.5.0",
            "_model_name": "HBoxModel",
            "_view_count": null,
            "_view_module": "@jupyter-widgets/controls",
            "_view_module_version": "1.5.0",
            "_view_name": "HBoxView",
            "box_style": "",
            "children": [
              "IPY_MODEL_10f1ce8d3f8648e7b685667d0f314917",
              "IPY_MODEL_fcafde34f70043f0a8da74b1ac1e7a86",
              "IPY_MODEL_c5ecbcc82f014e11b9f4092eb5a936b6"
            ],
            "layout": "IPY_MODEL_7bee12271ade417496b615e274a5de08"
          }
        },
        "10f1ce8d3f8648e7b685667d0f314917": {
          "model_module": "@jupyter-widgets/controls",
          "model_name": "HTMLModel",
          "model_module_version": "1.5.0",
          "state": {
            "_dom_classes": [],
            "_model_module": "@jupyter-widgets/controls",
            "_model_module_version": "1.5.0",
            "_model_name": "HTMLModel",
            "_view_count": null,
            "_view_module": "@jupyter-widgets/controls",
            "_view_module_version": "1.5.0",
            "_view_name": "HTMLView",
            "description": "",
            "description_tooltip": null,
            "layout": "IPY_MODEL_5271615c216c41babea88d6ce31b4570",
            "placeholder": "​",
            "style": "IPY_MODEL_e2ecd16612814181942aa0452c1f55a6",
            "value": "Downloading (…)neration_config.json: 100%"
          }
        },
        "fcafde34f70043f0a8da74b1ac1e7a86": {
          "model_module": "@jupyter-widgets/controls",
          "model_name": "FloatProgressModel",
          "model_module_version": "1.5.0",
          "state": {
            "_dom_classes": [],
            "_model_module": "@jupyter-widgets/controls",
            "_model_module_version": "1.5.0",
            "_model_name": "FloatProgressModel",
            "_view_count": null,
            "_view_module": "@jupyter-widgets/controls",
            "_view_module_version": "1.5.0",
            "_view_name": "ProgressView",
            "bar_style": "success",
            "description": "",
            "description_tooltip": null,
            "layout": "IPY_MODEL_6f4f9f5dbade4702baf816a5b5de923c",
            "max": 124,
            "min": 0,
            "orientation": "horizontal",
            "style": "IPY_MODEL_daaf15c67dd841b3b2a1337570a313f9",
            "value": 124
          }
        },
        "c5ecbcc82f014e11b9f4092eb5a936b6": {
          "model_module": "@jupyter-widgets/controls",
          "model_name": "HTMLModel",
          "model_module_version": "1.5.0",
          "state": {
            "_dom_classes": [],
            "_model_module": "@jupyter-widgets/controls",
            "_model_module_version": "1.5.0",
            "_model_name": "HTMLModel",
            "_view_count": null,
            "_view_module": "@jupyter-widgets/controls",
            "_view_module_version": "1.5.0",
            "_view_name": "HTMLView",
            "description": "",
            "description_tooltip": null,
            "layout": "IPY_MODEL_18ecf2ad6cbf41f8a1680fc2c9e19075",
            "placeholder": "​",
            "style": "IPY_MODEL_27c1f1ba010943d78c5d8e60dbd25015",
            "value": " 124/124 [00:00&lt;00:00, 4.49kB/s]"
          }
        },
        "7bee12271ade417496b615e274a5de08": {
          "model_module": "@jupyter-widgets/base",
          "model_name": "LayoutModel",
          "model_module_version": "1.2.0",
          "state": {
            "_model_module": "@jupyter-widgets/base",
            "_model_module_version": "1.2.0",
            "_model_name": "LayoutModel",
            "_view_count": null,
            "_view_module": "@jupyter-widgets/base",
            "_view_module_version": "1.2.0",
            "_view_name": "LayoutView",
            "align_content": null,
            "align_items": null,
            "align_self": null,
            "border": null,
            "bottom": null,
            "display": null,
            "flex": null,
            "flex_flow": null,
            "grid_area": null,
            "grid_auto_columns": null,
            "grid_auto_flow": null,
            "grid_auto_rows": null,
            "grid_column": null,
            "grid_gap": null,
            "grid_row": null,
            "grid_template_areas": null,
            "grid_template_columns": null,
            "grid_template_rows": null,
            "height": null,
            "justify_content": null,
            "justify_items": null,
            "left": null,
            "margin": null,
            "max_height": null,
            "max_width": null,
            "min_height": null,
            "min_width": null,
            "object_fit": null,
            "object_position": null,
            "order": null,
            "overflow": null,
            "overflow_x": null,
            "overflow_y": null,
            "padding": null,
            "right": null,
            "top": null,
            "visibility": null,
            "width": null
          }
        },
        "5271615c216c41babea88d6ce31b4570": {
          "model_module": "@jupyter-widgets/base",
          "model_name": "LayoutModel",
          "model_module_version": "1.2.0",
          "state": {
            "_model_module": "@jupyter-widgets/base",
            "_model_module_version": "1.2.0",
            "_model_name": "LayoutModel",
            "_view_count": null,
            "_view_module": "@jupyter-widgets/base",
            "_view_module_version": "1.2.0",
            "_view_name": "LayoutView",
            "align_content": null,
            "align_items": null,
            "align_self": null,
            "border": null,
            "bottom": null,
            "display": null,
            "flex": null,
            "flex_flow": null,
            "grid_area": null,
            "grid_auto_columns": null,
            "grid_auto_flow": null,
            "grid_auto_rows": null,
            "grid_column": null,
            "grid_gap": null,
            "grid_row": null,
            "grid_template_areas": null,
            "grid_template_columns": null,
            "grid_template_rows": null,
            "height": null,
            "justify_content": null,
            "justify_items": null,
            "left": null,
            "margin": null,
            "max_height": null,
            "max_width": null,
            "min_height": null,
            "min_width": null,
            "object_fit": null,
            "object_position": null,
            "order": null,
            "overflow": null,
            "overflow_x": null,
            "overflow_y": null,
            "padding": null,
            "right": null,
            "top": null,
            "visibility": null,
            "width": null
          }
        },
        "e2ecd16612814181942aa0452c1f55a6": {
          "model_module": "@jupyter-widgets/controls",
          "model_name": "DescriptionStyleModel",
          "model_module_version": "1.5.0",
          "state": {
            "_model_module": "@jupyter-widgets/controls",
            "_model_module_version": "1.5.0",
            "_model_name": "DescriptionStyleModel",
            "_view_count": null,
            "_view_module": "@jupyter-widgets/base",
            "_view_module_version": "1.2.0",
            "_view_name": "StyleView",
            "description_width": ""
          }
        },
        "6f4f9f5dbade4702baf816a5b5de923c": {
          "model_module": "@jupyter-widgets/base",
          "model_name": "LayoutModel",
          "model_module_version": "1.2.0",
          "state": {
            "_model_module": "@jupyter-widgets/base",
            "_model_module_version": "1.2.0",
            "_model_name": "LayoutModel",
            "_view_count": null,
            "_view_module": "@jupyter-widgets/base",
            "_view_module_version": "1.2.0",
            "_view_name": "LayoutView",
            "align_content": null,
            "align_items": null,
            "align_self": null,
            "border": null,
            "bottom": null,
            "display": null,
            "flex": null,
            "flex_flow": null,
            "grid_area": null,
            "grid_auto_columns": null,
            "grid_auto_flow": null,
            "grid_auto_rows": null,
            "grid_column": null,
            "grid_gap": null,
            "grid_row": null,
            "grid_template_areas": null,
            "grid_template_columns": null,
            "grid_template_rows": null,
            "height": null,
            "justify_content": null,
            "justify_items": null,
            "left": null,
            "margin": null,
            "max_height": null,
            "max_width": null,
            "min_height": null,
            "min_width": null,
            "object_fit": null,
            "object_position": null,
            "order": null,
            "overflow": null,
            "overflow_x": null,
            "overflow_y": null,
            "padding": null,
            "right": null,
            "top": null,
            "visibility": null,
            "width": null
          }
        },
        "daaf15c67dd841b3b2a1337570a313f9": {
          "model_module": "@jupyter-widgets/controls",
          "model_name": "ProgressStyleModel",
          "model_module_version": "1.5.0",
          "state": {
            "_model_module": "@jupyter-widgets/controls",
            "_model_module_version": "1.5.0",
            "_model_name": "ProgressStyleModel",
            "_view_count": null,
            "_view_module": "@jupyter-widgets/base",
            "_view_module_version": "1.2.0",
            "_view_name": "StyleView",
            "bar_color": null,
            "description_width": ""
          }
        },
        "18ecf2ad6cbf41f8a1680fc2c9e19075": {
          "model_module": "@jupyter-widgets/base",
          "model_name": "LayoutModel",
          "model_module_version": "1.2.0",
          "state": {
            "_model_module": "@jupyter-widgets/base",
            "_model_module_version": "1.2.0",
            "_model_name": "LayoutModel",
            "_view_count": null,
            "_view_module": "@jupyter-widgets/base",
            "_view_module_version": "1.2.0",
            "_view_name": "LayoutView",
            "align_content": null,
            "align_items": null,
            "align_self": null,
            "border": null,
            "bottom": null,
            "display": null,
            "flex": null,
            "flex_flow": null,
            "grid_area": null,
            "grid_auto_columns": null,
            "grid_auto_flow": null,
            "grid_auto_rows": null,
            "grid_column": null,
            "grid_gap": null,
            "grid_row": null,
            "grid_template_areas": null,
            "grid_template_columns": null,
            "grid_template_rows": null,
            "height": null,
            "justify_content": null,
            "justify_items": null,
            "left": null,
            "margin": null,
            "max_height": null,
            "max_width": null,
            "min_height": null,
            "min_width": null,
            "object_fit": null,
            "object_position": null,
            "order": null,
            "overflow": null,
            "overflow_x": null,
            "overflow_y": null,
            "padding": null,
            "right": null,
            "top": null,
            "visibility": null,
            "width": null
          }
        },
        "27c1f1ba010943d78c5d8e60dbd25015": {
          "model_module": "@jupyter-widgets/controls",
          "model_name": "DescriptionStyleModel",
          "model_module_version": "1.5.0",
          "state": {
            "_model_module": "@jupyter-widgets/controls",
            "_model_module_version": "1.5.0",
            "_model_name": "DescriptionStyleModel",
            "_view_count": null,
            "_view_module": "@jupyter-widgets/base",
            "_view_module_version": "1.2.0",
            "_view_name": "StyleView",
            "description_width": ""
          }
        },
        "f9673f50136f48028bdb9c179d4dc072": {
          "model_module": "@jupyter-widgets/controls",
          "model_name": "HBoxModel",
          "model_module_version": "1.5.0",
          "state": {
            "_dom_classes": [],
            "_model_module": "@jupyter-widgets/controls",
            "_model_module_version": "1.5.0",
            "_model_name": "HBoxModel",
            "_view_count": null,
            "_view_module": "@jupyter-widgets/controls",
            "_view_module_version": "1.5.0",
            "_view_name": "HBoxView",
            "box_style": "",
            "children": [
              "IPY_MODEL_c5b3129c2fa9489a8512bb0888771861",
              "IPY_MODEL_06132a1fb8c748f28999a744b7e4b80a",
              "IPY_MODEL_6402d0402b5742788f9b7fa723e1dc8f"
            ],
            "layout": "IPY_MODEL_1dffaeb20a904f57ba8a130a2709bf5e"
          }
        },
        "c5b3129c2fa9489a8512bb0888771861": {
          "model_module": "@jupyter-widgets/controls",
          "model_name": "HTMLModel",
          "model_module_version": "1.5.0",
          "state": {
            "_dom_classes": [],
            "_model_module": "@jupyter-widgets/controls",
            "_model_module_version": "1.5.0",
            "_model_name": "HTMLModel",
            "_view_count": null,
            "_view_module": "@jupyter-widgets/controls",
            "_view_module_version": "1.5.0",
            "_view_name": "HTMLView",
            "description": "",
            "description_tooltip": null,
            "layout": "IPY_MODEL_f4e42a607a7a461ba64c21b867e1074a",
            "placeholder": "​",
            "style": "IPY_MODEL_43ab5caddf2a418e819720d220584855",
            "value": "Downloading (…)okenizer_config.json: 100%"
          }
        },
        "06132a1fb8c748f28999a744b7e4b80a": {
          "model_module": "@jupyter-widgets/controls",
          "model_name": "FloatProgressModel",
          "model_module_version": "1.5.0",
          "state": {
            "_dom_classes": [],
            "_model_module": "@jupyter-widgets/controls",
            "_model_module_version": "1.5.0",
            "_model_name": "FloatProgressModel",
            "_view_count": null,
            "_view_module": "@jupyter-widgets/controls",
            "_view_module_version": "1.5.0",
            "_view_name": "ProgressView",
            "bar_style": "success",
            "description": "",
            "description_tooltip": null,
            "layout": "IPY_MODEL_801759975530408ca2eaef22b5295a9b",
            "max": 28,
            "min": 0,
            "orientation": "horizontal",
            "style": "IPY_MODEL_7496e9fd17184a74a9a0c47c12796b2f",
            "value": 28
          }
        },
        "6402d0402b5742788f9b7fa723e1dc8f": {
          "model_module": "@jupyter-widgets/controls",
          "model_name": "HTMLModel",
          "model_module_version": "1.5.0",
          "state": {
            "_dom_classes": [],
            "_model_module": "@jupyter-widgets/controls",
            "_model_module_version": "1.5.0",
            "_model_name": "HTMLModel",
            "_view_count": null,
            "_view_module": "@jupyter-widgets/controls",
            "_view_module_version": "1.5.0",
            "_view_name": "HTMLView",
            "description": "",
            "description_tooltip": null,
            "layout": "IPY_MODEL_4424289375154644a9659dc209de562e",
            "placeholder": "​",
            "style": "IPY_MODEL_7643965c3ece43b4b8478fbbf06f913a",
            "value": " 28.0/28.0 [00:00&lt;00:00, 2.11kB/s]"
          }
        },
        "1dffaeb20a904f57ba8a130a2709bf5e": {
          "model_module": "@jupyter-widgets/base",
          "model_name": "LayoutModel",
          "model_module_version": "1.2.0",
          "state": {
            "_model_module": "@jupyter-widgets/base",
            "_model_module_version": "1.2.0",
            "_model_name": "LayoutModel",
            "_view_count": null,
            "_view_module": "@jupyter-widgets/base",
            "_view_module_version": "1.2.0",
            "_view_name": "LayoutView",
            "align_content": null,
            "align_items": null,
            "align_self": null,
            "border": null,
            "bottom": null,
            "display": null,
            "flex": null,
            "flex_flow": null,
            "grid_area": null,
            "grid_auto_columns": null,
            "grid_auto_flow": null,
            "grid_auto_rows": null,
            "grid_column": null,
            "grid_gap": null,
            "grid_row": null,
            "grid_template_areas": null,
            "grid_template_columns": null,
            "grid_template_rows": null,
            "height": null,
            "justify_content": null,
            "justify_items": null,
            "left": null,
            "margin": null,
            "max_height": null,
            "max_width": null,
            "min_height": null,
            "min_width": null,
            "object_fit": null,
            "object_position": null,
            "order": null,
            "overflow": null,
            "overflow_x": null,
            "overflow_y": null,
            "padding": null,
            "right": null,
            "top": null,
            "visibility": null,
            "width": null
          }
        },
        "f4e42a607a7a461ba64c21b867e1074a": {
          "model_module": "@jupyter-widgets/base",
          "model_name": "LayoutModel",
          "model_module_version": "1.2.0",
          "state": {
            "_model_module": "@jupyter-widgets/base",
            "_model_module_version": "1.2.0",
            "_model_name": "LayoutModel",
            "_view_count": null,
            "_view_module": "@jupyter-widgets/base",
            "_view_module_version": "1.2.0",
            "_view_name": "LayoutView",
            "align_content": null,
            "align_items": null,
            "align_self": null,
            "border": null,
            "bottom": null,
            "display": null,
            "flex": null,
            "flex_flow": null,
            "grid_area": null,
            "grid_auto_columns": null,
            "grid_auto_flow": null,
            "grid_auto_rows": null,
            "grid_column": null,
            "grid_gap": null,
            "grid_row": null,
            "grid_template_areas": null,
            "grid_template_columns": null,
            "grid_template_rows": null,
            "height": null,
            "justify_content": null,
            "justify_items": null,
            "left": null,
            "margin": null,
            "max_height": null,
            "max_width": null,
            "min_height": null,
            "min_width": null,
            "object_fit": null,
            "object_position": null,
            "order": null,
            "overflow": null,
            "overflow_x": null,
            "overflow_y": null,
            "padding": null,
            "right": null,
            "top": null,
            "visibility": null,
            "width": null
          }
        },
        "43ab5caddf2a418e819720d220584855": {
          "model_module": "@jupyter-widgets/controls",
          "model_name": "DescriptionStyleModel",
          "model_module_version": "1.5.0",
          "state": {
            "_model_module": "@jupyter-widgets/controls",
            "_model_module_version": "1.5.0",
            "_model_name": "DescriptionStyleModel",
            "_view_count": null,
            "_view_module": "@jupyter-widgets/base",
            "_view_module_version": "1.2.0",
            "_view_name": "StyleView",
            "description_width": ""
          }
        },
        "801759975530408ca2eaef22b5295a9b": {
          "model_module": "@jupyter-widgets/base",
          "model_name": "LayoutModel",
          "model_module_version": "1.2.0",
          "state": {
            "_model_module": "@jupyter-widgets/base",
            "_model_module_version": "1.2.0",
            "_model_name": "LayoutModel",
            "_view_count": null,
            "_view_module": "@jupyter-widgets/base",
            "_view_module_version": "1.2.0",
            "_view_name": "LayoutView",
            "align_content": null,
            "align_items": null,
            "align_self": null,
            "border": null,
            "bottom": null,
            "display": null,
            "flex": null,
            "flex_flow": null,
            "grid_area": null,
            "grid_auto_columns": null,
            "grid_auto_flow": null,
            "grid_auto_rows": null,
            "grid_column": null,
            "grid_gap": null,
            "grid_row": null,
            "grid_template_areas": null,
            "grid_template_columns": null,
            "grid_template_rows": null,
            "height": null,
            "justify_content": null,
            "justify_items": null,
            "left": null,
            "margin": null,
            "max_height": null,
            "max_width": null,
            "min_height": null,
            "min_width": null,
            "object_fit": null,
            "object_position": null,
            "order": null,
            "overflow": null,
            "overflow_x": null,
            "overflow_y": null,
            "padding": null,
            "right": null,
            "top": null,
            "visibility": null,
            "width": null
          }
        },
        "7496e9fd17184a74a9a0c47c12796b2f": {
          "model_module": "@jupyter-widgets/controls",
          "model_name": "ProgressStyleModel",
          "model_module_version": "1.5.0",
          "state": {
            "_model_module": "@jupyter-widgets/controls",
            "_model_module_version": "1.5.0",
            "_model_name": "ProgressStyleModel",
            "_view_count": null,
            "_view_module": "@jupyter-widgets/base",
            "_view_module_version": "1.2.0",
            "_view_name": "StyleView",
            "bar_color": null,
            "description_width": ""
          }
        },
        "4424289375154644a9659dc209de562e": {
          "model_module": "@jupyter-widgets/base",
          "model_name": "LayoutModel",
          "model_module_version": "1.2.0",
          "state": {
            "_model_module": "@jupyter-widgets/base",
            "_model_module_version": "1.2.0",
            "_model_name": "LayoutModel",
            "_view_count": null,
            "_view_module": "@jupyter-widgets/base",
            "_view_module_version": "1.2.0",
            "_view_name": "LayoutView",
            "align_content": null,
            "align_items": null,
            "align_self": null,
            "border": null,
            "bottom": null,
            "display": null,
            "flex": null,
            "flex_flow": null,
            "grid_area": null,
            "grid_auto_columns": null,
            "grid_auto_flow": null,
            "grid_auto_rows": null,
            "grid_column": null,
            "grid_gap": null,
            "grid_row": null,
            "grid_template_areas": null,
            "grid_template_columns": null,
            "grid_template_rows": null,
            "height": null,
            "justify_content": null,
            "justify_items": null,
            "left": null,
            "margin": null,
            "max_height": null,
            "max_width": null,
            "min_height": null,
            "min_width": null,
            "object_fit": null,
            "object_position": null,
            "order": null,
            "overflow": null,
            "overflow_x": null,
            "overflow_y": null,
            "padding": null,
            "right": null,
            "top": null,
            "visibility": null,
            "width": null
          }
        },
        "7643965c3ece43b4b8478fbbf06f913a": {
          "model_module": "@jupyter-widgets/controls",
          "model_name": "DescriptionStyleModel",
          "model_module_version": "1.5.0",
          "state": {
            "_model_module": "@jupyter-widgets/controls",
            "_model_module_version": "1.5.0",
            "_model_name": "DescriptionStyleModel",
            "_view_count": null,
            "_view_module": "@jupyter-widgets/base",
            "_view_module_version": "1.2.0",
            "_view_name": "StyleView",
            "description_width": ""
          }
        },
        "0bb60c9cfe094189911bc198c9c4ed8b": {
          "model_module": "@jupyter-widgets/controls",
          "model_name": "HBoxModel",
          "model_module_version": "1.5.0",
          "state": {
            "_dom_classes": [],
            "_model_module": "@jupyter-widgets/controls",
            "_model_module_version": "1.5.0",
            "_model_name": "HBoxModel",
            "_view_count": null,
            "_view_module": "@jupyter-widgets/controls",
            "_view_module_version": "1.5.0",
            "_view_name": "HBoxView",
            "box_style": "",
            "children": [
              "IPY_MODEL_f4a623f802fe449e835a7d8530a79cdc",
              "IPY_MODEL_8899f106873c4358a0310eff87191991",
              "IPY_MODEL_100cd8b726a548afbc3f4711fc7d3809"
            ],
            "layout": "IPY_MODEL_59f3613e14524e9e8383250015ab6d90"
          }
        },
        "f4a623f802fe449e835a7d8530a79cdc": {
          "model_module": "@jupyter-widgets/controls",
          "model_name": "HTMLModel",
          "model_module_version": "1.5.0",
          "state": {
            "_dom_classes": [],
            "_model_module": "@jupyter-widgets/controls",
            "_model_module_version": "1.5.0",
            "_model_name": "HTMLModel",
            "_view_count": null,
            "_view_module": "@jupyter-widgets/controls",
            "_view_module_version": "1.5.0",
            "_view_name": "HTMLView",
            "description": "",
            "description_tooltip": null,
            "layout": "IPY_MODEL_f09581793fcc42abbe3634fb71e0ad89",
            "placeholder": "​",
            "style": "IPY_MODEL_7140ab894d864772a05cf05763f4111b",
            "value": "Downloading (…)lve/main/config.json: 100%"
          }
        },
        "8899f106873c4358a0310eff87191991": {
          "model_module": "@jupyter-widgets/controls",
          "model_name": "FloatProgressModel",
          "model_module_version": "1.5.0",
          "state": {
            "_dom_classes": [],
            "_model_module": "@jupyter-widgets/controls",
            "_model_module_version": "1.5.0",
            "_model_name": "FloatProgressModel",
            "_view_count": null,
            "_view_module": "@jupyter-widgets/controls",
            "_view_module_version": "1.5.0",
            "_view_name": "ProgressView",
            "bar_style": "success",
            "description": "",
            "description_tooltip": null,
            "layout": "IPY_MODEL_b86ccac9338e43c6a7729e40479fd000",
            "max": 570,
            "min": 0,
            "orientation": "horizontal",
            "style": "IPY_MODEL_634227c955374153a390820940bcc1e4",
            "value": 570
          }
        },
        "100cd8b726a548afbc3f4711fc7d3809": {
          "model_module": "@jupyter-widgets/controls",
          "model_name": "HTMLModel",
          "model_module_version": "1.5.0",
          "state": {
            "_dom_classes": [],
            "_model_module": "@jupyter-widgets/controls",
            "_model_module_version": "1.5.0",
            "_model_name": "HTMLModel",
            "_view_count": null,
            "_view_module": "@jupyter-widgets/controls",
            "_view_module_version": "1.5.0",
            "_view_name": "HTMLView",
            "description": "",
            "description_tooltip": null,
            "layout": "IPY_MODEL_41681eadb3a44bc889c4b8b0ed63b000",
            "placeholder": "​",
            "style": "IPY_MODEL_35c1c35fcefb4427a2dc211c66771a8f",
            "value": " 570/570 [00:00&lt;00:00, 44.2kB/s]"
          }
        },
        "59f3613e14524e9e8383250015ab6d90": {
          "model_module": "@jupyter-widgets/base",
          "model_name": "LayoutModel",
          "model_module_version": "1.2.0",
          "state": {
            "_model_module": "@jupyter-widgets/base",
            "_model_module_version": "1.2.0",
            "_model_name": "LayoutModel",
            "_view_count": null,
            "_view_module": "@jupyter-widgets/base",
            "_view_module_version": "1.2.0",
            "_view_name": "LayoutView",
            "align_content": null,
            "align_items": null,
            "align_self": null,
            "border": null,
            "bottom": null,
            "display": null,
            "flex": null,
            "flex_flow": null,
            "grid_area": null,
            "grid_auto_columns": null,
            "grid_auto_flow": null,
            "grid_auto_rows": null,
            "grid_column": null,
            "grid_gap": null,
            "grid_row": null,
            "grid_template_areas": null,
            "grid_template_columns": null,
            "grid_template_rows": null,
            "height": null,
            "justify_content": null,
            "justify_items": null,
            "left": null,
            "margin": null,
            "max_height": null,
            "max_width": null,
            "min_height": null,
            "min_width": null,
            "object_fit": null,
            "object_position": null,
            "order": null,
            "overflow": null,
            "overflow_x": null,
            "overflow_y": null,
            "padding": null,
            "right": null,
            "top": null,
            "visibility": null,
            "width": null
          }
        },
        "f09581793fcc42abbe3634fb71e0ad89": {
          "model_module": "@jupyter-widgets/base",
          "model_name": "LayoutModel",
          "model_module_version": "1.2.0",
          "state": {
            "_model_module": "@jupyter-widgets/base",
            "_model_module_version": "1.2.0",
            "_model_name": "LayoutModel",
            "_view_count": null,
            "_view_module": "@jupyter-widgets/base",
            "_view_module_version": "1.2.0",
            "_view_name": "LayoutView",
            "align_content": null,
            "align_items": null,
            "align_self": null,
            "border": null,
            "bottom": null,
            "display": null,
            "flex": null,
            "flex_flow": null,
            "grid_area": null,
            "grid_auto_columns": null,
            "grid_auto_flow": null,
            "grid_auto_rows": null,
            "grid_column": null,
            "grid_gap": null,
            "grid_row": null,
            "grid_template_areas": null,
            "grid_template_columns": null,
            "grid_template_rows": null,
            "height": null,
            "justify_content": null,
            "justify_items": null,
            "left": null,
            "margin": null,
            "max_height": null,
            "max_width": null,
            "min_height": null,
            "min_width": null,
            "object_fit": null,
            "object_position": null,
            "order": null,
            "overflow": null,
            "overflow_x": null,
            "overflow_y": null,
            "padding": null,
            "right": null,
            "top": null,
            "visibility": null,
            "width": null
          }
        },
        "7140ab894d864772a05cf05763f4111b": {
          "model_module": "@jupyter-widgets/controls",
          "model_name": "DescriptionStyleModel",
          "model_module_version": "1.5.0",
          "state": {
            "_model_module": "@jupyter-widgets/controls",
            "_model_module_version": "1.5.0",
            "_model_name": "DescriptionStyleModel",
            "_view_count": null,
            "_view_module": "@jupyter-widgets/base",
            "_view_module_version": "1.2.0",
            "_view_name": "StyleView",
            "description_width": ""
          }
        },
        "b86ccac9338e43c6a7729e40479fd000": {
          "model_module": "@jupyter-widgets/base",
          "model_name": "LayoutModel",
          "model_module_version": "1.2.0",
          "state": {
            "_model_module": "@jupyter-widgets/base",
            "_model_module_version": "1.2.0",
            "_model_name": "LayoutModel",
            "_view_count": null,
            "_view_module": "@jupyter-widgets/base",
            "_view_module_version": "1.2.0",
            "_view_name": "LayoutView",
            "align_content": null,
            "align_items": null,
            "align_self": null,
            "border": null,
            "bottom": null,
            "display": null,
            "flex": null,
            "flex_flow": null,
            "grid_area": null,
            "grid_auto_columns": null,
            "grid_auto_flow": null,
            "grid_auto_rows": null,
            "grid_column": null,
            "grid_gap": null,
            "grid_row": null,
            "grid_template_areas": null,
            "grid_template_columns": null,
            "grid_template_rows": null,
            "height": null,
            "justify_content": null,
            "justify_items": null,
            "left": null,
            "margin": null,
            "max_height": null,
            "max_width": null,
            "min_height": null,
            "min_width": null,
            "object_fit": null,
            "object_position": null,
            "order": null,
            "overflow": null,
            "overflow_x": null,
            "overflow_y": null,
            "padding": null,
            "right": null,
            "top": null,
            "visibility": null,
            "width": null
          }
        },
        "634227c955374153a390820940bcc1e4": {
          "model_module": "@jupyter-widgets/controls",
          "model_name": "ProgressStyleModel",
          "model_module_version": "1.5.0",
          "state": {
            "_model_module": "@jupyter-widgets/controls",
            "_model_module_version": "1.5.0",
            "_model_name": "ProgressStyleModel",
            "_view_count": null,
            "_view_module": "@jupyter-widgets/base",
            "_view_module_version": "1.2.0",
            "_view_name": "StyleView",
            "bar_color": null,
            "description_width": ""
          }
        },
        "41681eadb3a44bc889c4b8b0ed63b000": {
          "model_module": "@jupyter-widgets/base",
          "model_name": "LayoutModel",
          "model_module_version": "1.2.0",
          "state": {
            "_model_module": "@jupyter-widgets/base",
            "_model_module_version": "1.2.0",
            "_model_name": "LayoutModel",
            "_view_count": null,
            "_view_module": "@jupyter-widgets/base",
            "_view_module_version": "1.2.0",
            "_view_name": "LayoutView",
            "align_content": null,
            "align_items": null,
            "align_self": null,
            "border": null,
            "bottom": null,
            "display": null,
            "flex": null,
            "flex_flow": null,
            "grid_area": null,
            "grid_auto_columns": null,
            "grid_auto_flow": null,
            "grid_auto_rows": null,
            "grid_column": null,
            "grid_gap": null,
            "grid_row": null,
            "grid_template_areas": null,
            "grid_template_columns": null,
            "grid_template_rows": null,
            "height": null,
            "justify_content": null,
            "justify_items": null,
            "left": null,
            "margin": null,
            "max_height": null,
            "max_width": null,
            "min_height": null,
            "min_width": null,
            "object_fit": null,
            "object_position": null,
            "order": null,
            "overflow": null,
            "overflow_x": null,
            "overflow_y": null,
            "padding": null,
            "right": null,
            "top": null,
            "visibility": null,
            "width": null
          }
        },
        "35c1c35fcefb4427a2dc211c66771a8f": {
          "model_module": "@jupyter-widgets/controls",
          "model_name": "DescriptionStyleModel",
          "model_module_version": "1.5.0",
          "state": {
            "_model_module": "@jupyter-widgets/controls",
            "_model_module_version": "1.5.0",
            "_model_name": "DescriptionStyleModel",
            "_view_count": null,
            "_view_module": "@jupyter-widgets/base",
            "_view_module_version": "1.2.0",
            "_view_name": "StyleView",
            "description_width": ""
          }
        },
        "3bb7efefeb404ddf8ecea6f36b6c7b94": {
          "model_module": "@jupyter-widgets/controls",
          "model_name": "HBoxModel",
          "model_module_version": "1.5.0",
          "state": {
            "_dom_classes": [],
            "_model_module": "@jupyter-widgets/controls",
            "_model_module_version": "1.5.0",
            "_model_name": "HBoxModel",
            "_view_count": null,
            "_view_module": "@jupyter-widgets/controls",
            "_view_module_version": "1.5.0",
            "_view_name": "HBoxView",
            "box_style": "",
            "children": [
              "IPY_MODEL_6f4419d6747a42d596a6c3f04328736c",
              "IPY_MODEL_92d33d2465104944b7571e09c74d9dc5",
              "IPY_MODEL_9299892f981449a4acb5986d3994ecb8"
            ],
            "layout": "IPY_MODEL_6ff917b92bb441b79b4ca0c887f5ff5f"
          }
        },
        "6f4419d6747a42d596a6c3f04328736c": {
          "model_module": "@jupyter-widgets/controls",
          "model_name": "HTMLModel",
          "model_module_version": "1.5.0",
          "state": {
            "_dom_classes": [],
            "_model_module": "@jupyter-widgets/controls",
            "_model_module_version": "1.5.0",
            "_model_name": "HTMLModel",
            "_view_count": null,
            "_view_module": "@jupyter-widgets/controls",
            "_view_module_version": "1.5.0",
            "_view_name": "HTMLView",
            "description": "",
            "description_tooltip": null,
            "layout": "IPY_MODEL_b05822d69a7041b892f5b67b9dcf2cc2",
            "placeholder": "​",
            "style": "IPY_MODEL_a0fc55bd1f6946dfbc68bffcbf252c3b",
            "value": "Downloading (…)solve/main/vocab.txt: 100%"
          }
        },
        "92d33d2465104944b7571e09c74d9dc5": {
          "model_module": "@jupyter-widgets/controls",
          "model_name": "FloatProgressModel",
          "model_module_version": "1.5.0",
          "state": {
            "_dom_classes": [],
            "_model_module": "@jupyter-widgets/controls",
            "_model_module_version": "1.5.0",
            "_model_name": "FloatProgressModel",
            "_view_count": null,
            "_view_module": "@jupyter-widgets/controls",
            "_view_module_version": "1.5.0",
            "_view_name": "ProgressView",
            "bar_style": "success",
            "description": "",
            "description_tooltip": null,
            "layout": "IPY_MODEL_3b0d93dc98774abbb937ebeb7e056805",
            "max": 231508,
            "min": 0,
            "orientation": "horizontal",
            "style": "IPY_MODEL_239946a4684344ce9f77f21ad32fccd0",
            "value": 231508
          }
        },
        "9299892f981449a4acb5986d3994ecb8": {
          "model_module": "@jupyter-widgets/controls",
          "model_name": "HTMLModel",
          "model_module_version": "1.5.0",
          "state": {
            "_dom_classes": [],
            "_model_module": "@jupyter-widgets/controls",
            "_model_module_version": "1.5.0",
            "_model_name": "HTMLModel",
            "_view_count": null,
            "_view_module": "@jupyter-widgets/controls",
            "_view_module_version": "1.5.0",
            "_view_name": "HTMLView",
            "description": "",
            "description_tooltip": null,
            "layout": "IPY_MODEL_c6fe3cacc4e84d97ae7c981616737ff2",
            "placeholder": "​",
            "style": "IPY_MODEL_d87dfeae88114753830a569b5c5de11d",
            "value": " 232k/232k [00:00&lt;00:00, 3.37MB/s]"
          }
        },
        "6ff917b92bb441b79b4ca0c887f5ff5f": {
          "model_module": "@jupyter-widgets/base",
          "model_name": "LayoutModel",
          "model_module_version": "1.2.0",
          "state": {
            "_model_module": "@jupyter-widgets/base",
            "_model_module_version": "1.2.0",
            "_model_name": "LayoutModel",
            "_view_count": null,
            "_view_module": "@jupyter-widgets/base",
            "_view_module_version": "1.2.0",
            "_view_name": "LayoutView",
            "align_content": null,
            "align_items": null,
            "align_self": null,
            "border": null,
            "bottom": null,
            "display": null,
            "flex": null,
            "flex_flow": null,
            "grid_area": null,
            "grid_auto_columns": null,
            "grid_auto_flow": null,
            "grid_auto_rows": null,
            "grid_column": null,
            "grid_gap": null,
            "grid_row": null,
            "grid_template_areas": null,
            "grid_template_columns": null,
            "grid_template_rows": null,
            "height": null,
            "justify_content": null,
            "justify_items": null,
            "left": null,
            "margin": null,
            "max_height": null,
            "max_width": null,
            "min_height": null,
            "min_width": null,
            "object_fit": null,
            "object_position": null,
            "order": null,
            "overflow": null,
            "overflow_x": null,
            "overflow_y": null,
            "padding": null,
            "right": null,
            "top": null,
            "visibility": null,
            "width": null
          }
        },
        "b05822d69a7041b892f5b67b9dcf2cc2": {
          "model_module": "@jupyter-widgets/base",
          "model_name": "LayoutModel",
          "model_module_version": "1.2.0",
          "state": {
            "_model_module": "@jupyter-widgets/base",
            "_model_module_version": "1.2.0",
            "_model_name": "LayoutModel",
            "_view_count": null,
            "_view_module": "@jupyter-widgets/base",
            "_view_module_version": "1.2.0",
            "_view_name": "LayoutView",
            "align_content": null,
            "align_items": null,
            "align_self": null,
            "border": null,
            "bottom": null,
            "display": null,
            "flex": null,
            "flex_flow": null,
            "grid_area": null,
            "grid_auto_columns": null,
            "grid_auto_flow": null,
            "grid_auto_rows": null,
            "grid_column": null,
            "grid_gap": null,
            "grid_row": null,
            "grid_template_areas": null,
            "grid_template_columns": null,
            "grid_template_rows": null,
            "height": null,
            "justify_content": null,
            "justify_items": null,
            "left": null,
            "margin": null,
            "max_height": null,
            "max_width": null,
            "min_height": null,
            "min_width": null,
            "object_fit": null,
            "object_position": null,
            "order": null,
            "overflow": null,
            "overflow_x": null,
            "overflow_y": null,
            "padding": null,
            "right": null,
            "top": null,
            "visibility": null,
            "width": null
          }
        },
        "a0fc55bd1f6946dfbc68bffcbf252c3b": {
          "model_module": "@jupyter-widgets/controls",
          "model_name": "DescriptionStyleModel",
          "model_module_version": "1.5.0",
          "state": {
            "_model_module": "@jupyter-widgets/controls",
            "_model_module_version": "1.5.0",
            "_model_name": "DescriptionStyleModel",
            "_view_count": null,
            "_view_module": "@jupyter-widgets/base",
            "_view_module_version": "1.2.0",
            "_view_name": "StyleView",
            "description_width": ""
          }
        },
        "3b0d93dc98774abbb937ebeb7e056805": {
          "model_module": "@jupyter-widgets/base",
          "model_name": "LayoutModel",
          "model_module_version": "1.2.0",
          "state": {
            "_model_module": "@jupyter-widgets/base",
            "_model_module_version": "1.2.0",
            "_model_name": "LayoutModel",
            "_view_count": null,
            "_view_module": "@jupyter-widgets/base",
            "_view_module_version": "1.2.0",
            "_view_name": "LayoutView",
            "align_content": null,
            "align_items": null,
            "align_self": null,
            "border": null,
            "bottom": null,
            "display": null,
            "flex": null,
            "flex_flow": null,
            "grid_area": null,
            "grid_auto_columns": null,
            "grid_auto_flow": null,
            "grid_auto_rows": null,
            "grid_column": null,
            "grid_gap": null,
            "grid_row": null,
            "grid_template_areas": null,
            "grid_template_columns": null,
            "grid_template_rows": null,
            "height": null,
            "justify_content": null,
            "justify_items": null,
            "left": null,
            "margin": null,
            "max_height": null,
            "max_width": null,
            "min_height": null,
            "min_width": null,
            "object_fit": null,
            "object_position": null,
            "order": null,
            "overflow": null,
            "overflow_x": null,
            "overflow_y": null,
            "padding": null,
            "right": null,
            "top": null,
            "visibility": null,
            "width": null
          }
        },
        "239946a4684344ce9f77f21ad32fccd0": {
          "model_module": "@jupyter-widgets/controls",
          "model_name": "ProgressStyleModel",
          "model_module_version": "1.5.0",
          "state": {
            "_model_module": "@jupyter-widgets/controls",
            "_model_module_version": "1.5.0",
            "_model_name": "ProgressStyleModel",
            "_view_count": null,
            "_view_module": "@jupyter-widgets/base",
            "_view_module_version": "1.2.0",
            "_view_name": "StyleView",
            "bar_color": null,
            "description_width": ""
          }
        },
        "c6fe3cacc4e84d97ae7c981616737ff2": {
          "model_module": "@jupyter-widgets/base",
          "model_name": "LayoutModel",
          "model_module_version": "1.2.0",
          "state": {
            "_model_module": "@jupyter-widgets/base",
            "_model_module_version": "1.2.0",
            "_model_name": "LayoutModel",
            "_view_count": null,
            "_view_module": "@jupyter-widgets/base",
            "_view_module_version": "1.2.0",
            "_view_name": "LayoutView",
            "align_content": null,
            "align_items": null,
            "align_self": null,
            "border": null,
            "bottom": null,
            "display": null,
            "flex": null,
            "flex_flow": null,
            "grid_area": null,
            "grid_auto_columns": null,
            "grid_auto_flow": null,
            "grid_auto_rows": null,
            "grid_column": null,
            "grid_gap": null,
            "grid_row": null,
            "grid_template_areas": null,
            "grid_template_columns": null,
            "grid_template_rows": null,
            "height": null,
            "justify_content": null,
            "justify_items": null,
            "left": null,
            "margin": null,
            "max_height": null,
            "max_width": null,
            "min_height": null,
            "min_width": null,
            "object_fit": null,
            "object_position": null,
            "order": null,
            "overflow": null,
            "overflow_x": null,
            "overflow_y": null,
            "padding": null,
            "right": null,
            "top": null,
            "visibility": null,
            "width": null
          }
        },
        "d87dfeae88114753830a569b5c5de11d": {
          "model_module": "@jupyter-widgets/controls",
          "model_name": "DescriptionStyleModel",
          "model_module_version": "1.5.0",
          "state": {
            "_model_module": "@jupyter-widgets/controls",
            "_model_module_version": "1.5.0",
            "_model_name": "DescriptionStyleModel",
            "_view_count": null,
            "_view_module": "@jupyter-widgets/base",
            "_view_module_version": "1.2.0",
            "_view_name": "StyleView",
            "description_width": ""
          }
        },
        "7a29900f21b14176b8bf70030ae9f0e4": {
          "model_module": "@jupyter-widgets/controls",
          "model_name": "HBoxModel",
          "model_module_version": "1.5.0",
          "state": {
            "_dom_classes": [],
            "_model_module": "@jupyter-widgets/controls",
            "_model_module_version": "1.5.0",
            "_model_name": "HBoxModel",
            "_view_count": null,
            "_view_module": "@jupyter-widgets/controls",
            "_view_module_version": "1.5.0",
            "_view_name": "HBoxView",
            "box_style": "",
            "children": [
              "IPY_MODEL_b6a7161f055841c48aa722b984529278",
              "IPY_MODEL_25eb6f146f9b4e248db529acba3243fa",
              "IPY_MODEL_263a456447fa4d328132936ec1b3af2d"
            ],
            "layout": "IPY_MODEL_31c857b5cdaa4406b4f0cd607f0af3a8"
          }
        },
        "b6a7161f055841c48aa722b984529278": {
          "model_module": "@jupyter-widgets/controls",
          "model_name": "HTMLModel",
          "model_module_version": "1.5.0",
          "state": {
            "_dom_classes": [],
            "_model_module": "@jupyter-widgets/controls",
            "_model_module_version": "1.5.0",
            "_model_name": "HTMLModel",
            "_view_count": null,
            "_view_module": "@jupyter-widgets/controls",
            "_view_module_version": "1.5.0",
            "_view_name": "HTMLView",
            "description": "",
            "description_tooltip": null,
            "layout": "IPY_MODEL_0c71462123bc4de1bb0ef1f51e9b1eaf",
            "placeholder": "​",
            "style": "IPY_MODEL_572d553ad187436f8f361fdc92d0512a",
            "value": "Downloading (…)/main/tokenizer.json: 100%"
          }
        },
        "25eb6f146f9b4e248db529acba3243fa": {
          "model_module": "@jupyter-widgets/controls",
          "model_name": "FloatProgressModel",
          "model_module_version": "1.5.0",
          "state": {
            "_dom_classes": [],
            "_model_module": "@jupyter-widgets/controls",
            "_model_module_version": "1.5.0",
            "_model_name": "FloatProgressModel",
            "_view_count": null,
            "_view_module": "@jupyter-widgets/controls",
            "_view_module_version": "1.5.0",
            "_view_name": "ProgressView",
            "bar_style": "success",
            "description": "",
            "description_tooltip": null,
            "layout": "IPY_MODEL_582e996c95bd44f0bc5dca040ada4336",
            "max": 466062,
            "min": 0,
            "orientation": "horizontal",
            "style": "IPY_MODEL_acb99a3c31bc45fbbdda511a5951baf5",
            "value": 466062
          }
        },
        "263a456447fa4d328132936ec1b3af2d": {
          "model_module": "@jupyter-widgets/controls",
          "model_name": "HTMLModel",
          "model_module_version": "1.5.0",
          "state": {
            "_dom_classes": [],
            "_model_module": "@jupyter-widgets/controls",
            "_model_module_version": "1.5.0",
            "_model_name": "HTMLModel",
            "_view_count": null,
            "_view_module": "@jupyter-widgets/controls",
            "_view_module_version": "1.5.0",
            "_view_name": "HTMLView",
            "description": "",
            "description_tooltip": null,
            "layout": "IPY_MODEL_5217ac624157401aabf2bfb2f4137ea2",
            "placeholder": "​",
            "style": "IPY_MODEL_20f034b311904e6897684284aaf8f7bf",
            "value": " 466k/466k [00:00&lt;00:00, 2.38MB/s]"
          }
        },
        "31c857b5cdaa4406b4f0cd607f0af3a8": {
          "model_module": "@jupyter-widgets/base",
          "model_name": "LayoutModel",
          "model_module_version": "1.2.0",
          "state": {
            "_model_module": "@jupyter-widgets/base",
            "_model_module_version": "1.2.0",
            "_model_name": "LayoutModel",
            "_view_count": null,
            "_view_module": "@jupyter-widgets/base",
            "_view_module_version": "1.2.0",
            "_view_name": "LayoutView",
            "align_content": null,
            "align_items": null,
            "align_self": null,
            "border": null,
            "bottom": null,
            "display": null,
            "flex": null,
            "flex_flow": null,
            "grid_area": null,
            "grid_auto_columns": null,
            "grid_auto_flow": null,
            "grid_auto_rows": null,
            "grid_column": null,
            "grid_gap": null,
            "grid_row": null,
            "grid_template_areas": null,
            "grid_template_columns": null,
            "grid_template_rows": null,
            "height": null,
            "justify_content": null,
            "justify_items": null,
            "left": null,
            "margin": null,
            "max_height": null,
            "max_width": null,
            "min_height": null,
            "min_width": null,
            "object_fit": null,
            "object_position": null,
            "order": null,
            "overflow": null,
            "overflow_x": null,
            "overflow_y": null,
            "padding": null,
            "right": null,
            "top": null,
            "visibility": null,
            "width": null
          }
        },
        "0c71462123bc4de1bb0ef1f51e9b1eaf": {
          "model_module": "@jupyter-widgets/base",
          "model_name": "LayoutModel",
          "model_module_version": "1.2.0",
          "state": {
            "_model_module": "@jupyter-widgets/base",
            "_model_module_version": "1.2.0",
            "_model_name": "LayoutModel",
            "_view_count": null,
            "_view_module": "@jupyter-widgets/base",
            "_view_module_version": "1.2.0",
            "_view_name": "LayoutView",
            "align_content": null,
            "align_items": null,
            "align_self": null,
            "border": null,
            "bottom": null,
            "display": null,
            "flex": null,
            "flex_flow": null,
            "grid_area": null,
            "grid_auto_columns": null,
            "grid_auto_flow": null,
            "grid_auto_rows": null,
            "grid_column": null,
            "grid_gap": null,
            "grid_row": null,
            "grid_template_areas": null,
            "grid_template_columns": null,
            "grid_template_rows": null,
            "height": null,
            "justify_content": null,
            "justify_items": null,
            "left": null,
            "margin": null,
            "max_height": null,
            "max_width": null,
            "min_height": null,
            "min_width": null,
            "object_fit": null,
            "object_position": null,
            "order": null,
            "overflow": null,
            "overflow_x": null,
            "overflow_y": null,
            "padding": null,
            "right": null,
            "top": null,
            "visibility": null,
            "width": null
          }
        },
        "572d553ad187436f8f361fdc92d0512a": {
          "model_module": "@jupyter-widgets/controls",
          "model_name": "DescriptionStyleModel",
          "model_module_version": "1.5.0",
          "state": {
            "_model_module": "@jupyter-widgets/controls",
            "_model_module_version": "1.5.0",
            "_model_name": "DescriptionStyleModel",
            "_view_count": null,
            "_view_module": "@jupyter-widgets/base",
            "_view_module_version": "1.2.0",
            "_view_name": "StyleView",
            "description_width": ""
          }
        },
        "582e996c95bd44f0bc5dca040ada4336": {
          "model_module": "@jupyter-widgets/base",
          "model_name": "LayoutModel",
          "model_module_version": "1.2.0",
          "state": {
            "_model_module": "@jupyter-widgets/base",
            "_model_module_version": "1.2.0",
            "_model_name": "LayoutModel",
            "_view_count": null,
            "_view_module": "@jupyter-widgets/base",
            "_view_module_version": "1.2.0",
            "_view_name": "LayoutView",
            "align_content": null,
            "align_items": null,
            "align_self": null,
            "border": null,
            "bottom": null,
            "display": null,
            "flex": null,
            "flex_flow": null,
            "grid_area": null,
            "grid_auto_columns": null,
            "grid_auto_flow": null,
            "grid_auto_rows": null,
            "grid_column": null,
            "grid_gap": null,
            "grid_row": null,
            "grid_template_areas": null,
            "grid_template_columns": null,
            "grid_template_rows": null,
            "height": null,
            "justify_content": null,
            "justify_items": null,
            "left": null,
            "margin": null,
            "max_height": null,
            "max_width": null,
            "min_height": null,
            "min_width": null,
            "object_fit": null,
            "object_position": null,
            "order": null,
            "overflow": null,
            "overflow_x": null,
            "overflow_y": null,
            "padding": null,
            "right": null,
            "top": null,
            "visibility": null,
            "width": null
          }
        },
        "acb99a3c31bc45fbbdda511a5951baf5": {
          "model_module": "@jupyter-widgets/controls",
          "model_name": "ProgressStyleModel",
          "model_module_version": "1.5.0",
          "state": {
            "_model_module": "@jupyter-widgets/controls",
            "_model_module_version": "1.5.0",
            "_model_name": "ProgressStyleModel",
            "_view_count": null,
            "_view_module": "@jupyter-widgets/base",
            "_view_module_version": "1.2.0",
            "_view_name": "StyleView",
            "bar_color": null,
            "description_width": ""
          }
        },
        "5217ac624157401aabf2bfb2f4137ea2": {
          "model_module": "@jupyter-widgets/base",
          "model_name": "LayoutModel",
          "model_module_version": "1.2.0",
          "state": {
            "_model_module": "@jupyter-widgets/base",
            "_model_module_version": "1.2.0",
            "_model_name": "LayoutModel",
            "_view_count": null,
            "_view_module": "@jupyter-widgets/base",
            "_view_module_version": "1.2.0",
            "_view_name": "LayoutView",
            "align_content": null,
            "align_items": null,
            "align_self": null,
            "border": null,
            "bottom": null,
            "display": null,
            "flex": null,
            "flex_flow": null,
            "grid_area": null,
            "grid_auto_columns": null,
            "grid_auto_flow": null,
            "grid_auto_rows": null,
            "grid_column": null,
            "grid_gap": null,
            "grid_row": null,
            "grid_template_areas": null,
            "grid_template_columns": null,
            "grid_template_rows": null,
            "height": null,
            "justify_content": null,
            "justify_items": null,
            "left": null,
            "margin": null,
            "max_height": null,
            "max_width": null,
            "min_height": null,
            "min_width": null,
            "object_fit": null,
            "object_position": null,
            "order": null,
            "overflow": null,
            "overflow_x": null,
            "overflow_y": null,
            "padding": null,
            "right": null,
            "top": null,
            "visibility": null,
            "width": null
          }
        },
        "20f034b311904e6897684284aaf8f7bf": {
          "model_module": "@jupyter-widgets/controls",
          "model_name": "DescriptionStyleModel",
          "model_module_version": "1.5.0",
          "state": {
            "_model_module": "@jupyter-widgets/controls",
            "_model_module_version": "1.5.0",
            "_model_name": "DescriptionStyleModel",
            "_view_count": null,
            "_view_module": "@jupyter-widgets/base",
            "_view_module_version": "1.2.0",
            "_view_name": "StyleView",
            "description_width": ""
          }
        }
      }
    }
  },
  "cells": [
    {
      "cell_type": "markdown",
      "source": [
        "#**Week 2 - Transformers 🤖: MLPs in Disguise** (~2 hrs total)"
      ],
      "metadata": {
        "id": "04PZJ_WLbmZY"
      }
    },
    {
      "cell_type": "markdown",
      "source": [
        "## Part 0 - Setup (~1 min)\n",
        "Before you begin, please clone this notebook!\n",
        "\n",
        "**File > Save a copy in Drive**"
      ],
      "metadata": {
        "id": "-Vsd23TK6NCp"
      }
    },
    {
      "cell_type": "code",
      "source": [
        "from logging import exception\n",
        "#@title Step 1: Mount drive\n",
        "#@markdown Run this cell. If prompted, press \"Connect to Google Drive\" and select your Google account.\n",
        "#@markdown Then, under the folder icon 📁 on the left panel, you should see the folder **drive** appear.\n",
        "from google.colab import drive\n",
        "from IPython.display import display, Markdown, HTML\n",
        "import os, sys\n",
        "\n",
        "%load_ext autoreload\n",
        "%autoreload 2\n",
        "try:\n",
        "  drive.mount('/content/drive', force_remount=False)\n",
        "  # os.chdir('/content/drive/My Drive/DLE-Feb23/Projects')\n",
        "  sys.path.append('/content/drive/My Drive/DLE-Jun23/Projects')\n",
        "  os.chdir('/content/drive/MyDrive/Colab Notebooks/')\n",
        "  display(\"⭐ Mounted successfully!\")\n",
        "except:\n",
        "  display(HTML('<span style=\"color:red\">An error occurred. Try again!</span>'))\n"
      ],
      "metadata": {
        "id": "oxAUjGRSbuTu",
        "colab": {
          "base_uri": "https://localhost:8080/",
          "height": 53
        },
        "outputId": "8249ff06-9320-4128-cd3f-236f3953434a"
      },
      "execution_count": null,
      "outputs": [
        {
          "output_type": "stream",
          "name": "stdout",
          "text": [
            "Mounted at /content/drive\n"
          ]
        },
        {
          "output_type": "display_data",
          "data": {
            "text/plain": [
              "'⭐ Mounted successfully!'"
            ],
            "application/vnd.google.colaboratory.intrinsic+json": {
              "type": "string"
            }
          },
          "metadata": {}
        }
      ]
    },
    {
      "cell_type": "code",
      "source": [
        "%%capture\n",
        "#@title Step 2: Import packages\n",
        "!pip install gradio tiktoken transformers bertviz sentence_transformers\n",
        "!git clone https://github.com/karpathy/minGPT.git\n",
        "\n",
        "import sys\n",
        "sys.path.append('/content/drive/MyDrive/Colab Notebooks/minGPT')\n",
        "import gradio as gr\n",
        "import torch\n",
        "import torch.nn as nn\n",
        "import torch.nn.functional as F\n",
        "import numpy as np\n",
        "from dle_utils.dle_utils import *\n",
        "\n",
        "import os\n",
        "import tiktoken\n",
        "from contextlib import nullcontext\n",
        "\n",
        "from sentence_transformers import SentenceTransformer\n",
        "import transformers\n",
        "from transformers import AutoTokenizer, AutoModel\n",
        "\n",
        "import bertviz\n",
        "import matplotlib.pyplot as plt\n",
        "\n",
        "import torch.nn.functional as F\n",
        "\n",
        "np.random.seed(0)\n",
        "torch.manual_seed(0)"
      ],
      "metadata": {
        "id": "EZ4gFztrcAHT"
      },
      "execution_count": null,
      "outputs": []
    },
    {
      "cell_type": "markdown",
      "source": [
        "### Note: Accessing minGPT\n",
        "\n",
        "In this assignment, you'll be modifying files in a GitHub repo you have just cloned. This is located in\n",
        "\n",
        "`/content/drive/MyDrive/Colab Notebooks/minGPT`\n",
        "\n",
        "After you navigate to this folder, you can open files directly and modify them within Colab.\n",
        "\n",
        "<img src=\"https://drive.google.com/uc?id=1v88T2um69mf4W4Jvzt2f-Se8-YlDDZmz\" width=300/>"
      ],
      "metadata": {
        "id": "bdUbql4zc-wv"
      }
    },
    {
      "cell_type": "code",
      "source": [
        "#@title Step 0: Enter your name to begin.\n",
        "#@markdown Enter your name as it appears in Slack and run this cell! This is optional -- you can also leave this blank.\n",
        "Name = ' Saeed Rezaei' #@param {type:\"string\"}\n",
        "filepath = '/content/drive/MyDrive/Colab Notebooks/dle_info.txt'\n",
        "if os.path.exists(filepath):\n",
        "  print(\"Success!\")\n",
        "else:\n",
        "  if len(Name) == 0:\n",
        "    print(\"Please set your name!\")\n",
        "  else:\n",
        "    try:\n",
        "      with open(filepath, 'w') as fp:\n",
        "        fp.write(Name)\n",
        "        dle_username = Name\n",
        "      print(\"Success!\")\n",
        "    except:\n",
        "      print(\"Something went wrong...\")\n"
      ],
      "metadata": {
        "id": "Y03RSXQvcUjf",
        "cellView": "form",
        "colab": {
          "base_uri": "https://localhost:8080/"
        },
        "outputId": "d4e0dca1-9296-427e-fd4f-f25625632771"
      },
      "execution_count": null,
      "outputs": [
        {
          "output_type": "stream",
          "name": "stdout",
          "text": [
            "Success!\n"
          ]
        }
      ]
    },
    {
      "cell_type": "markdown",
      "source": [
        "## Part 1: The Life of a Prompt (~10 min)\n",
        "\n",
        "<img src=\"https://seeklogo.com/images/C/chatgpt-logo-02AFA704B5-seeklogo.com.png\" width='200px' height='200px'>\n",
        "\n",
        "What happens when we type a prompt into ChatGPT? How does it know what to say? (How can we know it's not just a person pretending to be an AI on the other end? 😏).\n",
        "\n",
        "ChatGPT uses **GPT-3** as the backbone model for all of its responses. By backbone model, we mean that this is the model that interprets and aims to \"understand\" the prompt. There are other bells and whistles that are needed to make the experience smoother, but GPT-3 is the brains 🧠 behind everything.\n",
        "\n",
        "In this section will cover the basics of GPT (Generative Pre-trained Transformer). GPT was developed by OpenAI, and serves as the backbone of their flagship product, Chat-GPT.\n",
        "\n",
        "We will be working with a simplified version of GPT called minGPT (written by *Andrej Karpathy*) to be a more human-understandable implementation. Also, we'll be using GPT-2, which is a smaller, earlier version of GPT-3. Though different, there are actually very few conceptual differences between GPT-2 and GPT-3!\n",
        "\n",
        "**TODO**:\n",
        "\n",
        "Open up ```minGPT/mingpt/model.py``` in the folder tab on the left side of this notebook by double clicking its name. It should then appear on the right hand side of this notebook. The model we will be using is defined under ```class GPT(nn.Module)```.\n",
        "\n",
        "We'll dig into the model in a second. First, let's just run some examples through it to get a feel.\n",
        "\n",
        "**Run the cell below.** This cell loads the GPT-2 model and creates a function, `generate_text()`, that generates text using GPT-2 given a prompt."
      ],
      "metadata": {
        "id": "a_fF1tq1n2RC"
      }
    },
    {
      "cell_type": "code",
      "source": [
        "# GPT.from_pretrained('gpt2') generated an assertion error at line 200,\n",
        "# so I commented that line out to make it run"
      ],
      "metadata": {
        "id": "Xkm-qdkxXizA"
      },
      "execution_count": null,
      "outputs": []
    },
    {
      "cell_type": "code",
      "source": [
        "from minGPT import mingpt\n",
        "from mingpt.model import GPT\n",
        "from mingpt.bpe import BPETokenizer\n",
        "\n",
        "model = GPT.from_pretrained('gpt2')\n",
        "tokenizer = BPETokenizer()\n",
        "\n",
        "def generate_text(prompt, model=model, num_samples=3, num_tokens_per_response=50):\n",
        "  x = tokenizer(prompt).expand(num_samples, -1)\n",
        "  response = model.generate(x, max_new_tokens=num_tokens_per_response, do_sample=True, top_k=5)\n",
        "  print(prompt)\n",
        "  print('-'*80)\n",
        "  for i in range(num_samples):\n",
        "    print(f'Response {i+1}: {tokenizer.decode(response[i].cpu().squeeze())[len(prompt):]}')\n",
        "    print('-'*80)"
      ],
      "metadata": {
        "id": "xw8cepvdoLqh",
        "colab": {
          "base_uri": "https://localhost:8080/",
          "height": 165,
          "referenced_widgets": [
            "86ebfdad3bc34ab89bfae3490c7c0d10",
            "100391960d594563bea99a5bab98b2f4",
            "807485a5d9244980a84a81edd1f97d82",
            "7f67e7410e284897be9a8c3b87c6cb65",
            "db30e2dfcc9244a19811b55a023ea415",
            "e9de76cee83b452e821df7dd77e6e85a",
            "8e0e501c1cbf41d6977c59efff29ec6b",
            "5ca05c7e2be84b76b32c1f4ca604d1f0",
            "0f46cb38dedb45949f30dea67af7fae9",
            "a17a04f27dbe4c469b85496e79f8cbab",
            "fbfffb2ba24a4ae58ef58252ee22d168",
            "8fa7fe02cfd14296a2c10fb27f46758f",
            "db3d57f86bc64d11b4835374cc0672e9",
            "2c253b0f7a964aee96ee394117aee34f",
            "54601159a4af49e4bc71e66dbe6fba17",
            "6097bac7d6df4cf68fab77bb5c970fab",
            "aed723b6cdaa4e87bcc2108001e0fc00",
            "2ef375c8bcc84ecd8371124080e18825",
            "57ca79016a8a412888dae93b68a5a90e",
            "69891a3b3b7945498795a67cc43f47e5",
            "a8027de5342a44cbb6ce0d4ed44886aa",
            "0616d11b5d1740878caa849d0e498514",
            "a936a47b08cf4288a6c7236ef1597682",
            "10f1ce8d3f8648e7b685667d0f314917",
            "fcafde34f70043f0a8da74b1ac1e7a86",
            "c5ecbcc82f014e11b9f4092eb5a936b6",
            "7bee12271ade417496b615e274a5de08",
            "5271615c216c41babea88d6ce31b4570",
            "e2ecd16612814181942aa0452c1f55a6",
            "6f4f9f5dbade4702baf816a5b5de923c",
            "daaf15c67dd841b3b2a1337570a313f9",
            "18ecf2ad6cbf41f8a1680fc2c9e19075",
            "27c1f1ba010943d78c5d8e60dbd25015"
          ]
        },
        "outputId": "cf952a4b-b1ef-4330-ac9f-db95e9c7ce3c"
      },
      "execution_count": null,
      "outputs": [
        {
          "output_type": "stream",
          "name": "stdout",
          "text": [
            "number of parameters: 124.44M\n"
          ]
        },
        {
          "output_type": "display_data",
          "data": {
            "text/plain": [
              "Downloading (…)lve/main/config.json:   0%|          | 0.00/665 [00:00<?, ?B/s]"
            ],
            "application/vnd.jupyter.widget-view+json": {
              "version_major": 2,
              "version_minor": 0,
              "model_id": "86ebfdad3bc34ab89bfae3490c7c0d10"
            }
          },
          "metadata": {}
        },
        {
          "output_type": "display_data",
          "data": {
            "text/plain": [
              "Downloading model.safetensors:   0%|          | 0.00/548M [00:00<?, ?B/s]"
            ],
            "application/vnd.jupyter.widget-view+json": {
              "version_major": 2,
              "version_minor": 0,
              "model_id": "8fa7fe02cfd14296a2c10fb27f46758f"
            }
          },
          "metadata": {}
        },
        {
          "output_type": "display_data",
          "data": {
            "text/plain": [
              "Downloading (…)neration_config.json:   0%|          | 0.00/124 [00:00<?, ?B/s]"
            ],
            "application/vnd.jupyter.widget-view+json": {
              "version_major": 2,
              "version_minor": 0,
              "model_id": "a936a47b08cf4288a6c7236ef1597682"
            }
          },
          "metadata": {}
        },
        {
          "output_type": "stream",
          "name": "stdout",
          "text": [
            "downloading https://openaipublic.blob.core.windows.net/gpt-2/models/124M/encoder.json to /root/.cache/mingpt/encoder.json\n",
            "downloading https://openaipublic.blob.core.windows.net/gpt-2/models/124M/vocab.bpe to /root/.cache/mingpt/vocab.bpe\n"
          ]
        }
      ]
    },
    {
      "cell_type": "code",
      "source": [
        "#@title Try a prompt\n",
        "#@markdown In this cell, type in a prompt, starting with the default.\n",
        "Prompt = 'The best programming language for beginners is' #@param {type:\"string\"}\n",
        "\n",
        "generate_text(Prompt)"
      ],
      "metadata": {
        "id": "Zgb2Bu8sAn7R",
        "cellView": "form",
        "colab": {
          "base_uri": "https://localhost:8080/"
        },
        "outputId": "5b5638eb-ef9c-4d39-f3a5-6c35d817f380"
      },
      "execution_count": null,
      "outputs": [
        {
          "output_type": "stream",
          "name": "stdout",
          "text": [
            "The best programming language for beginners is\n",
            "--------------------------------------------------------------------------------\n",
            "Response 1:  C++. C is the most popular programming language. C is a great way to learn and learn programming.\n",
            "\n",
            "The first part of C is C++. C is the most popular programming language. You can read C code in a a C\n",
            "--------------------------------------------------------------------------------\n",
            "Response 2:  Ruby.\n",
            "\n",
            "Ruby is the best programming language for beginners.\n",
            "\n",
            "Ruby's syntax is very readable and it's syntax is also very simple to read. It also has a lot of interesting properties.\n",
            "\n",
            "There is a lot of good information\n",
            "--------------------------------------------------------------------------------\n",
            "Response 3:  Python.\n",
            "\n",
            "The most important part of Python is that I've been writing Python for a long time. The reason why is simple.\n",
            "\n",
            "Python is a programming language. It has all these wonderful features. It is a language. It is\n",
            "--------------------------------------------------------------------------------\n"
          ]
        }
      ]
    },
    {
      "cell_type": "markdown",
      "source": [
        "🎉 Hopefully, the answers from this model made some sense!\n",
        "\n",
        "If you find that the response is messy, this is in part because the model is spewing out words like a firehose. In practice, ChatGPT does additional tuning to make sure its responses are more natural.\n",
        "\n",
        "***So what is going on when a prompt is entered into the model?***\n",
        "\n",
        "We'll be going through a guided tutorial which we call **\"The life of a prompt\"**. We will take you through all the steps that a prompt goes through before the response is generated."
      ],
      "metadata": {
        "id": "nOVSTqsD_I46"
      }
    },
    {
      "cell_type": "markdown",
      "source": [
        "## Part 2: Input preprocessing (~15 min)\n",
        "\n",
        "You'll notice in our function ```generate_text``` (the one provided a couple cells up, not in ```model.py```) that we do two steps before feeding the prompt into the model: (1) tokenization, (2) reshaping.\n",
        "\n",
        "(1) Tokenization is the process of breaking down free text into individual units (tokens). Tokens can be words like \"coffee\", \"cell\", or \"search\". They can also be subwords, such as the word \"psychology\" broken into \"psycho\" and \"logy\". This is what ```tokenize(prompt)``` does.\n",
        "\n",
        "In the cell below, we'll be using a tokenizer that's a little more understandable. (Read more about it [here](https://huggingface.co/transformers/v4.2.2/main_classes/tokenizer.html)).\n",
        "\n",
        "**TODO**: Run the line below to load the tokenizer.\n"
      ],
      "metadata": {
        "id": "ooR3-rNJ8Qod"
      }
    },
    {
      "cell_type": "code",
      "source": [
        "from transformers import AutoTokenizer\n",
        "\n",
        "autotokenizer = AutoTokenizer.from_pretrained(\"bert-base-uncased\")"
      ],
      "metadata": {
        "id": "oZC55D0MTP8M",
        "colab": {
          "base_uri": "https://localhost:8080/",
          "height": 145,
          "referenced_widgets": [
            "f9673f50136f48028bdb9c179d4dc072",
            "c5b3129c2fa9489a8512bb0888771861",
            "06132a1fb8c748f28999a744b7e4b80a",
            "6402d0402b5742788f9b7fa723e1dc8f",
            "1dffaeb20a904f57ba8a130a2709bf5e",
            "f4e42a607a7a461ba64c21b867e1074a",
            "43ab5caddf2a418e819720d220584855",
            "801759975530408ca2eaef22b5295a9b",
            "7496e9fd17184a74a9a0c47c12796b2f",
            "4424289375154644a9659dc209de562e",
            "7643965c3ece43b4b8478fbbf06f913a",
            "0bb60c9cfe094189911bc198c9c4ed8b",
            "f4a623f802fe449e835a7d8530a79cdc",
            "8899f106873c4358a0310eff87191991",
            "100cd8b726a548afbc3f4711fc7d3809",
            "59f3613e14524e9e8383250015ab6d90",
            "f09581793fcc42abbe3634fb71e0ad89",
            "7140ab894d864772a05cf05763f4111b",
            "b86ccac9338e43c6a7729e40479fd000",
            "634227c955374153a390820940bcc1e4",
            "41681eadb3a44bc889c4b8b0ed63b000",
            "35c1c35fcefb4427a2dc211c66771a8f",
            "3bb7efefeb404ddf8ecea6f36b6c7b94",
            "6f4419d6747a42d596a6c3f04328736c",
            "92d33d2465104944b7571e09c74d9dc5",
            "9299892f981449a4acb5986d3994ecb8",
            "6ff917b92bb441b79b4ca0c887f5ff5f",
            "b05822d69a7041b892f5b67b9dcf2cc2",
            "a0fc55bd1f6946dfbc68bffcbf252c3b",
            "3b0d93dc98774abbb937ebeb7e056805",
            "239946a4684344ce9f77f21ad32fccd0",
            "c6fe3cacc4e84d97ae7c981616737ff2",
            "d87dfeae88114753830a569b5c5de11d",
            "7a29900f21b14176b8bf70030ae9f0e4",
            "b6a7161f055841c48aa722b984529278",
            "25eb6f146f9b4e248db529acba3243fa",
            "263a456447fa4d328132936ec1b3af2d",
            "31c857b5cdaa4406b4f0cd607f0af3a8",
            "0c71462123bc4de1bb0ef1f51e9b1eaf",
            "572d553ad187436f8f361fdc92d0512a",
            "582e996c95bd44f0bc5dca040ada4336",
            "acb99a3c31bc45fbbdda511a5951baf5",
            "5217ac624157401aabf2bfb2f4137ea2",
            "20f034b311904e6897684284aaf8f7bf"
          ]
        },
        "outputId": "193fe9b6-a1ca-4118-a075-8e3111f6e258"
      },
      "execution_count": null,
      "outputs": [
        {
          "output_type": "display_data",
          "data": {
            "text/plain": [
              "Downloading (…)okenizer_config.json:   0%|          | 0.00/28.0 [00:00<?, ?B/s]"
            ],
            "application/vnd.jupyter.widget-view+json": {
              "version_major": 2,
              "version_minor": 0,
              "model_id": "f9673f50136f48028bdb9c179d4dc072"
            }
          },
          "metadata": {}
        },
        {
          "output_type": "display_data",
          "data": {
            "text/plain": [
              "Downloading (…)lve/main/config.json:   0%|          | 0.00/570 [00:00<?, ?B/s]"
            ],
            "application/vnd.jupyter.widget-view+json": {
              "version_major": 2,
              "version_minor": 0,
              "model_id": "0bb60c9cfe094189911bc198c9c4ed8b"
            }
          },
          "metadata": {}
        },
        {
          "output_type": "display_data",
          "data": {
            "text/plain": [
              "Downloading (…)solve/main/vocab.txt:   0%|          | 0.00/232k [00:00<?, ?B/s]"
            ],
            "application/vnd.jupyter.widget-view+json": {
              "version_major": 2,
              "version_minor": 0,
              "model_id": "3bb7efefeb404ddf8ecea6f36b6c7b94"
            }
          },
          "metadata": {}
        },
        {
          "output_type": "display_data",
          "data": {
            "text/plain": [
              "Downloading (…)/main/tokenizer.json:   0%|          | 0.00/466k [00:00<?, ?B/s]"
            ],
            "application/vnd.jupyter.widget-view+json": {
              "version_major": 2,
              "version_minor": 0,
              "model_id": "7a29900f21b14176b8bf70030ae9f0e4"
            }
          },
          "metadata": {}
        }
      ]
    },
    {
      "cell_type": "markdown",
      "source": [
        "**TODO**: Then, try a few different input strings to see how tokenization works:"
      ],
      "metadata": {
        "id": "KugMwyvjPall"
      }
    },
    {
      "cell_type": "code",
      "source": [
        "# Try changing input_string with a few of your own sentences!\n",
        "input_string = \"Ethiopian coffee tastes best with 10 minutes of brewing.\"\n",
        "\n",
        "autotokenizer.tokenize(input_string)"
      ],
      "metadata": {
        "id": "Z7sy0LAYTThZ",
        "colab": {
          "base_uri": "https://localhost:8080/"
        },
        "outputId": "6ef61bd9-7e44-4f33-80d2-d2a76ba18fd5"
      },
      "execution_count": null,
      "outputs": [
        {
          "output_type": "execute_result",
          "data": {
            "text/plain": [
              "['ethiopian',\n",
              " 'coffee',\n",
              " 'tastes',\n",
              " 'best',\n",
              " 'with',\n",
              " '10',\n",
              " 'minutes',\n",
              " 'of',\n",
              " 'brewing',\n",
              " '.']"
            ]
          },
          "metadata": {},
          "execution_count": 8
        }
      ]
    },
    {
      "cell_type": "code",
      "source": [
        "# Trying different input strings:\n",
        "input_strings = [\"Today is a lovely sunny day.\", \"How is everything?\", \"I need to run some errands.\",\n",
        "                 \"The last project was a really challenging one!\", \"That was a fantabulous gift I have ever had!\"]\n",
        "\n",
        "for input_string in input_strings:\n",
        "  print(autotokenizer.tokenize(input_string))"
      ],
      "metadata": {
        "colab": {
          "base_uri": "https://localhost:8080/"
        },
        "id": "Fs8uRGELZXxN",
        "outputId": "c1ed96ba-1c27-46a3-a620-44055cc14ec5"
      },
      "execution_count": null,
      "outputs": [
        {
          "output_type": "stream",
          "name": "stdout",
          "text": [
            "['today', 'is', 'a', 'lovely', 'sunny', 'day', '.']\n",
            "['how', 'is', 'everything', '?']\n",
            "['i', 'need', 'to', 'run', 'some', 'er', '##rand', '##s', '.']\n",
            "['the', 'last', 'project', 'was', 'a', 'really', 'challenging', 'one', '!']\n",
            "['that', 'was', 'a', 'fan', '##ta', '##bu', '##lous', 'gift', 'i', 'have', 'ever', 'had', '!']\n"
          ]
        }
      ]
    },
    {
      "cell_type": "markdown",
      "source": [
        "If you try a word like \"enumeration\", you'll notice the tokens are ['en', '##ume', '##ration']. The double hash \"##\" is used to indicate subwords that are part of larger words.\n",
        "\n",
        "This symbol is used by **Byte Pair Encoding (BPE)**, which is commonly used in NLP tasks. You'll also notice that it removes capitalization since it doesn't affect word meanings in most cases. (This is what the uncased means in `bert-base-uncased`).\n",
        "\n",
        "The next step is to convert tokens into input ids: Each token is mapped to an identification number in the overall vocabulary.\n",
        "\n",
        "**TODO**: In the cell below, find out what the input id for the word \"coffee\" is. Also, figure out what the size of the vocabulary is."
      ],
      "metadata": {
        "id": "QcbWDYVmUW8r"
      }
    },
    {
      "cell_type": "code",
      "source": [
        "# You'll need the vocab first.\n",
        "vocab = autotokenizer.get_vocab()\n",
        "\n",
        "# Grab the input id for 'coffee'\n",
        "coffee_vocab_id = vocab['coffee']\n",
        "vocab_length = len(vocab)\n",
        "print(f\"The size of the vocabulary is {vocab_length}, and the input id for 'coffee' is {coffee_vocab_id}.\")"
      ],
      "metadata": {
        "id": "HEV8lyGR0zyO",
        "colab": {
          "base_uri": "https://localhost:8080/"
        },
        "outputId": "e128302c-7b6a-4742-9266-8aaf1477b328"
      },
      "execution_count": null,
      "outputs": [
        {
          "output_type": "stream",
          "name": "stdout",
          "text": [
            "The size of the vocabulary is 30522, and the input id for 'coffee' is 4157.\n"
          ]
        }
      ]
    },
    {
      "cell_type": "code",
      "source": [
        "check('2.1.1', tuple([coffee_vocab_id, vocab_length]))"
      ],
      "metadata": {
        "id": "Oq73COrzWT2y",
        "colab": {
          "base_uri": "https://localhost:8080/",
          "height": 64
        },
        "outputId": "d2b6ea7d-3b85-4e2f-8873-196c8bac0b31"
      },
      "execution_count": null,
      "outputs": [
        {
          "output_type": "execute_result",
          "data": {
            "text/plain": [
              "<IPython.core.display.Markdown object>"
            ],
            "text/markdown": "## Correct! 🎉"
          },
          "metadata": {},
          "execution_count": 11
        }
      ]
    },
    {
      "cell_type": "markdown",
      "source": [
        "Easy enough, right? The tokenizer maps each prompt to its tokens, and then mapping those tokens to their input ids.\n",
        "\n",
        "Next, we are just left with reshaping the input.\n",
        "\n",
        "There's not too much to say about reshaping except for the fact that the line ```x = tokenizer(prompt).expand(num_samples, -1)``` has the ```expand``` component just to repeat the same prompt ```num_samples``` of times, each time aiming to get a different response to the prompt. (Think of it as a different \"try\" each time).\n",
        "\n",
        "___\n"
      ],
      "metadata": {
        "id": "KNGf5FNtXwag"
      }
    },
    {
      "cell_type": "markdown",
      "source": [
        "## Part 3: Embeddings (~45 min)\n",
        "\n",
        "Scroll to line 283 in ```model.py```, where you'll find the function ```generate``` (different than the ```generate_text``` function we just worked with.) Try reading over this code to get a high-level understanding.\n",
        "\n",
        "The core of this function is found in line 293:\n",
        "\n",
        "```logits, _ = self(idx_cond)```.\n",
        "\n",
        "The self function calls ```forward```. In the ```forward``` function, you will find on line 267 our first focus point:\n",
        "\n",
        "```tok_emb = self.transformer.wte(idx)```\n",
        "\n",
        "Here, ```wte``` stands for word-token embedding.\n",
        "\n",
        "**TODO**: In the cell below, try running a sample prompt through this layer. Remember to first tokenize and reshape the prompt!\n",
        "\n"
      ],
      "metadata": {
        "id": "fCQRp6lZaDgv"
      }
    },
    {
      "cell_type": "code",
      "source": [
        "# Make sure the prompt is tokenized and reshaped\n",
        "prompt = 'Into the rabbit hole we go'\n",
        "x = tokenizer(prompt).expand(1, -1)\n",
        "\n",
        "# Pass x through the model.transformer.wte function\n",
        "x_embedding = model.transformer.wte(x)\n",
        "\n",
        "print(x.size())\n",
        "print(x_embedding.size())"
      ],
      "metadata": {
        "id": "vcUacS5X02Xd",
        "colab": {
          "base_uri": "https://localhost:8080/"
        },
        "outputId": "b2a7d248-b0b0-4477-f760-2bcb60a61c9d"
      },
      "execution_count": null,
      "outputs": [
        {
          "output_type": "stream",
          "name": "stdout",
          "text": [
            "torch.Size([1, 7])\n",
            "torch.Size([1, 7, 768])\n"
          ]
        }
      ]
    },
    {
      "cell_type": "markdown",
      "source": [
        "What do you notice about the size of ```x_embedding``` vs ```x```?\n",
        "What dimension has grown?\n"
      ],
      "metadata": {
        "id": "TU6kxlT9k084"
      }
    },
    {
      "cell_type": "markdown",
      "source": [
        "The following code defines ```model.transformer.wte```:\n",
        "\n",
        "```wte = nn.Embedding(config.vocab_size, config.n_embd)```\n",
        "\n",
        "An embedding layer is used, which you can learn more about [here](https://pytorch.org/docs/stable/generated/torch.nn.Embedding.html).\n",
        "\n",
        "**TODO**: To familiarize yourself with embedding layers, initialize an ```nn.Embedding``` layer with ```num_embeddings = 10``` and ```embedding_dim = 5```. Then, come up with an input, ```in_x```, that produces an output of size (2, 4, 5) after it's passed through this embedding layer.\n",
        "\n",
        "Here are a couple hints:\n",
        "1. ```num_embeddings``` refers to the highest number any index can be.\n",
        "2. Look into Pytorch tensor type ```torch.LongTensor```."
      ],
      "metadata": {
        "id": "M_oy9iCxgHzt"
      }
    },
    {
      "cell_type": "code",
      "source": [
        "# Create embedding layer\n",
        "emb_layer = nn.Embedding(num_embeddings = 10, embedding_dim = 5)\n",
        "\n",
        "# Create input that produces output of size (2, 4, 5)\n",
        "in_x = torch.LongTensor([[1, 2, 4, 5], [4, 3, 2, 9]])\n",
        "\n",
        "out_x = emb_layer(in_x)\n",
        "out_x.size()"
      ],
      "metadata": {
        "id": "88bWKJG_4HZ3",
        "colab": {
          "base_uri": "https://localhost:8080/"
        },
        "outputId": "c104d230-6d56-445a-a782-43db7164ffdf"
      },
      "execution_count": null,
      "outputs": [
        {
          "output_type": "execute_result",
          "data": {
            "text/plain": [
              "torch.Size([2, 4, 5])"
            ]
          },
          "metadata": {},
          "execution_count": 13
        }
      ]
    },
    {
      "cell_type": "code",
      "source": [
        "check('2.1.2', out_x)"
      ],
      "metadata": {
        "id": "81NgnREMx3ma",
        "colab": {
          "base_uri": "https://localhost:8080/",
          "height": 64
        },
        "outputId": "c8b8dff7-552e-410c-b2d0-4deb0032edd3"
      },
      "execution_count": null,
      "outputs": [
        {
          "output_type": "execute_result",
          "data": {
            "text/plain": [
              "<IPython.core.display.Markdown object>"
            ],
            "text/markdown": "## Correct! 🎉"
          },
          "metadata": {},
          "execution_count": 14
        }
      ]
    },
    {
      "cell_type": "markdown",
      "source": [
        "Great! So what does this all mean?\n",
        "\n",
        "In the shape (2, 4, 5), the 2 refers to the number of samples. For each sample, there is a (4, 5) tensor that represents the prompt. The 4 refers to the length of each prompt (number of tokens), and the final dimension 5 refers to the fact that each token is represented by a length-5 vector.\n",
        "\n",
        "**In a nutshell**:\n",
        "\n",
        "*Token -> nn.Embedding -> vector of size ```embedding_dim```*\n",
        "\n",
        "```nn.Embedding``` is a trainable layer, meaning that as the model sees more data, the exact way in which it associates the embeddings to each token changes.\n",
        "\n",
        "Let's see an example of this.\n",
        "\n",
        "**TODO**:\n",
        "\n",
        "In the cell below, create your own ```nn.Embedding``` layer that has the same number of input and output dimensions as ```model.transformer.wte```. Hint: You can find this out by just printing the object itself out."
      ],
      "metadata": {
        "id": "tNFQZF25yXmI"
      }
    },
    {
      "cell_type": "code",
      "source": [
        "model.transformer.wte"
      ],
      "metadata": {
        "colab": {
          "base_uri": "https://localhost:8080/"
        },
        "id": "cC3EinUXoRwC",
        "outputId": "232edf73-f7bb-4de2-efa8-940404e61f79"
      },
      "execution_count": null,
      "outputs": [
        {
          "output_type": "execute_result",
          "data": {
            "text/plain": [
              "Embedding(50257, 768)"
            ]
          },
          "metadata": {},
          "execution_count": 15
        }
      ]
    },
    {
      "cell_type": "code",
      "source": [
        "# Initialize the embedding layer\n",
        "untrained_embedding = nn.Embedding(model.transformer.wte.num_embeddings, model.transformer.wte.embedding_dim)"
      ],
      "metadata": {
        "id": "cHhgDPGH82fZ"
      },
      "execution_count": null,
      "outputs": []
    },
    {
      "cell_type": "code",
      "source": [
        "check('2.1.3', untrained_embedding)"
      ],
      "metadata": {
        "id": "xgrFV_N084FX",
        "colab": {
          "base_uri": "https://localhost:8080/",
          "height": 64
        },
        "outputId": "1c1e1818-d623-4f6c-f20b-593c190d4a83"
      },
      "execution_count": null,
      "outputs": [
        {
          "output_type": "execute_result",
          "data": {
            "text/plain": [
              "<IPython.core.display.Markdown object>"
            ],
            "text/markdown": "## Correct! 🎉"
          },
          "metadata": {},
          "execution_count": 17
        }
      ]
    },
    {
      "cell_type": "markdown",
      "source": [
        "A great gutcheck for this is to ask yourself what the first dimension refers to in the context of the tokenizer.\n",
        "\n",
        "Next, let's take two similar words and find out how well it associates them together **before any training**.\n",
        "\n",
        "To measure the similarity between two embedding vectors, we'll be using a score called cosine similarity (which is ```F.cosine_similarity``` in PyTorch) to compare the embeddings. Very similar embeddings will have a cosine similarity closer to 1, and very dissimilar embeddings will have cosine similarity closer to 0. **Hint: You will need to use the ```dim``` argument to compare the right dimension (the one with 768).**\n",
        "\n",
        "Finally, populate ```similarity_untrained``` with the cosine similarity as a numpy float. **You'll need to turn a torch tensor into numpy for this!** (Also, think about which dimension actually has the answer you want if you're running into dimension issues).\n"
      ],
      "metadata": {
        "id": "vP0My4VV8wgk"
      }
    },
    {
      "cell_type": "code",
      "source": [
        "# Use tokenizer to tokenize 'dog' and 'canine'\n",
        "word1 = vocab['dog']\n",
        "word2 = vocab['canine']\n",
        "\n",
        "# Extract embeddings\n",
        "word1_emb = untrained_embedding(torch.tensor(word1))\n",
        "word2_emb = untrained_embedding(torch.tensor(word2))\n",
        "\n",
        "# Compute the cosine similarity between word1_emb and word2_emb\n",
        "similarity_untrained = F.cosine_similarity(word1_emb.unsqueeze(0), word2_emb.unsqueeze(0))\n",
        "similarity_untrained = similarity_untrained.detach().numpy() # Convert to numpy float\n",
        "\n",
        "print(similarity_untrained)"
      ],
      "metadata": {
        "id": "N9W1rQW74j3m",
        "colab": {
          "base_uri": "https://localhost:8080/"
        },
        "outputId": "8f7cdfb6-fc4c-4227-b7f1-c46c3c7951da"
      },
      "execution_count": null,
      "outputs": [
        {
          "output_type": "stream",
          "name": "stdout",
          "text": [
            "[-0.00444037]\n"
          ]
        }
      ]
    },
    {
      "cell_type": "markdown",
      "source": [
        "**TODO**:\n",
        "Next, you will be using the ```wte``` (word token embedding) layer from the model that has already been trained. The goal is to notice the difference before and after model training. The embedding produced after training should be much better than random."
      ],
      "metadata": {
        "id": "Ep9W-XJQGBwV"
      }
    },
    {
      "cell_type": "code",
      "source": [
        "# Extract embeddings\n",
        "word1_emb = model.transformer.wte(torch.tensor(word1))\n",
        "word2_emb = model.transformer.wte(torch.tensor(word2))\n",
        "\n",
        "# Compute the cosine similarity\n",
        "similarity_trained = F.cosine_similarity(word1_emb.unsqueeze(0), word2_emb.unsqueeze(0))\n",
        "similarity_trained = similarity_trained.detach().numpy() # Convert to numpy float\n",
        "\n",
        "print(similarity_trained)"
      ],
      "metadata": {
        "id": "lT1kzDZH53rd",
        "colab": {
          "base_uri": "https://localhost:8080/"
        },
        "outputId": "8ca8752e-ddcf-4107-ce77-4fb3e9bd1f1e"
      },
      "execution_count": null,
      "outputs": [
        {
          "output_type": "stream",
          "name": "stdout",
          "text": [
            "[0.2726724]\n"
          ]
        }
      ]
    },
    {
      "cell_type": "code",
      "source": [
        "check('2.1.4', tuple([similarity_untrained, similarity_trained]))"
      ],
      "metadata": {
        "id": "3eW5V2HNG7fU",
        "colab": {
          "base_uri": "https://localhost:8080/",
          "height": 64
        },
        "outputId": "187613b3-26e7-4dea-e365-7f8ac806ab5a"
      },
      "execution_count": null,
      "outputs": [
        {
          "output_type": "execute_result",
          "data": {
            "text/plain": [
              "<IPython.core.display.Markdown object>"
            ],
            "text/markdown": "## Correct! 🎉"
          },
          "metadata": {},
          "execution_count": 20
        }
      ]
    },
    {
      "cell_type": "markdown",
      "source": [
        "Great! If done correctly, you should find that the random initialization has a very low similarity score between two related words (\"dog\", \"canine\").\n",
        "\n",
        "After training, the model's ```wte``` layer associates similar words more closely. Another way to look at this is that the model's embeddings represent \"meaning\" much more strongly."
      ],
      "metadata": {
        "id": "HNC24ORnHYA2"
      }
    },
    {
      "cell_type": "markdown",
      "source": [
        "Let's try one more exercise here. Rather than find the embedding for a single word, can we extract the embedding for a whole sentence?\n",
        "\n",
        "Because the embedding layer will produce a 768-sized vector for each token, we will need to find a way to \"squash\" that into a fixed-length vector. One common method is just to take the average value along each of the 768 dimensions.\n",
        "\n",
        "**TODO**:\n",
        "In the cell below, tokenize the prompt and extract the embeddings. What are the dimensions of the embeddings? Compute the mean embedding."
      ],
      "metadata": {
        "id": "TlkMm6WY6Q8A"
      }
    },
    {
      "cell_type": "code",
      "source": [
        "sentence = \"Dogs are one of the most popular pets in the world.\"\n",
        "\n",
        "# Tokenize sentence and extract embedding from the trained layer\n",
        "sentence_emb = model.transformer.wte(tokenizer(prompt).expand(1, -1))\n",
        "\n",
        "# Compute the mean of the layer across all words in the sentence.\n",
        "mean_emb = torch.mean(sentence_emb, 1)"
      ],
      "metadata": {
        "id": "YFptIxYN-aCQ"
      },
      "execution_count": null,
      "outputs": []
    },
    {
      "cell_type": "code",
      "source": [
        "check('2.1.5', mean_emb)"
      ],
      "metadata": {
        "id": "JW2Myu8296eC",
        "colab": {
          "base_uri": "https://localhost:8080/",
          "height": 64
        },
        "outputId": "d98d3cec-11ca-4b05-ead7-0e8ee7cabda6"
      },
      "execution_count": null,
      "outputs": [
        {
          "output_type": "execute_result",
          "data": {
            "text/plain": [
              "<IPython.core.display.Markdown object>"
            ],
            "text/markdown": "## Correct! 🎉"
          },
          "metadata": {},
          "execution_count": 22
        }
      ]
    },
    {
      "cell_type": "markdown",
      "source": [
        "Let's test out how well this works on the task of comparing sentence. Below are three sentences. The first sentence is a linear regression formula, and the second and third are statements about dogs. The idea is that the cosine similarity between sentence B and sentence C should be higher than the cosine similarity between sentence A and B or A and C.\n",
        "\n",
        "**TODO**: Run the following cell. Then, compute the cosine similarities below (as numpy floats)."
      ],
      "metadata": {
        "id": "4A_6Yjfm6yyS"
      }
    },
    {
      "cell_type": "code",
      "source": [
        "sentenceA = \"y = β₀ + β₁x₁ + β₂x₂ + … + βₚxₚ + ε\"\n",
        "sentenceB = \"Dogs are one of the most popular pets in the world.\"\n",
        "sentenceC = \"There are over 300 different breeds of dogs.\""
      ],
      "metadata": {
        "id": "S4kiUPpX3Sjs"
      },
      "execution_count": null,
      "outputs": []
    },
    {
      "cell_type": "code",
      "source": [
        "# Extract mean sentence embeddings for each sentence.\n",
        "embA = torch.mean(model.transformer.wte(tokenizer(sentenceA).expand(1, -1)), 1)\n",
        "embB = torch.mean(model.transformer.wte(tokenizer(sentenceB).expand(1, -1)), 1)\n",
        "embC = torch.mean(model.transformer.wte(tokenizer(sentenceC).expand(1, -1)), 1)\n",
        "\n",
        "# Compute the cosine similarity for each pair of sentences and convert to a numpy float\n",
        "ABsim = F.cosine_similarity(embA, embB).detach().numpy()\n",
        "BCsim = F.cosine_similarity(embB, embC).detach().numpy()\n",
        "ACsim = F.cosine_similarity(embA, embC).detach().numpy()\n",
        "\n",
        "print(ABsim, BCsim, ACsim)"
      ],
      "metadata": {
        "id": "4Xshnlvy_T31",
        "colab": {
          "base_uri": "https://localhost:8080/"
        },
        "outputId": "47e4198b-df91-4143-a09c-a851d8119c02"
      },
      "execution_count": null,
      "outputs": [
        {
          "output_type": "stream",
          "name": "stdout",
          "text": [
            "[0.51319766] [0.8453177] [0.60104316]\n"
          ]
        }
      ]
    },
    {
      "cell_type": "code",
      "source": [
        "check('2.1.6', tuple([ABsim, BCsim, ACsim]))"
      ],
      "metadata": {
        "id": "t1HXSUvu-_IR",
        "colab": {
          "base_uri": "https://localhost:8080/",
          "height": 64
        },
        "outputId": "a5934373-a937-4cb6-b1c3-38d8530bdadc"
      },
      "execution_count": null,
      "outputs": [
        {
          "output_type": "execute_result",
          "data": {
            "text/plain": [
              "<IPython.core.display.Markdown object>"
            ],
            "text/markdown": "## Correct! 🎉"
          },
          "metadata": {},
          "execution_count": 25
        }
      ]
    },
    {
      "cell_type": "markdown",
      "source": [
        "Now let's see if this works on a larger scale. In the variable ```SENTENCES``` is a list of 100 sentences. 90 of these sentences are about cats or dogs, while 10 are about statistics.\n",
        "\n",
        "\n",
        "**TODO**: Can you use sentence embeddings to figure out which 10 are about statistics **without looking at them**?\n",
        "\n",
        "This part is open-ended. In general terms, you should: (1) extract and compute the mean embeddings for each sentence. (2) Compare the embeddings with one another. For example, you could try a [clustering method](https://scikit-learn.org/stable/modules/clustering.html)!\n",
        "\n",
        "Once you finish, populate ```outlier_idx``` with a list of the indices (a numpy array) in ```SENTENCES``` which contain the statistics sentences."
      ],
      "metadata": {
        "id": "87NjfVJS74gJ"
      }
    },
    {
      "cell_type": "code",
      "source": [
        "sentenceEmbeddings = []\n",
        "for SENTENCE in SENTENCES:\n",
        "  sentenceEmbeddings.append(torch.mean(model.transformer.wte(tokenizer(SENTENCE).expand(1, -1)), 1))\n",
        "\n",
        "sentenceEmbeddings[0].shape"
      ],
      "metadata": {
        "colab": {
          "base_uri": "https://localhost:8080/"
        },
        "id": "ItjS4VIt0z4j",
        "outputId": "dd0577d2-fe19-43ac-dc26-861742bb2d5e"
      },
      "execution_count": null,
      "outputs": [
        {
          "output_type": "execute_result",
          "data": {
            "text/plain": [
              "torch.Size([1, 768])"
            ]
          },
          "metadata": {},
          "execution_count": 26
        }
      ]
    },
    {
      "cell_type": "code",
      "source": [
        "# Your code here\n",
        "sentence_example = SENTENCES[0]\n",
        "\n",
        "from sklearn.cluster import KMeans\n",
        "from sklearn.metrics.pairwise import cosine_similarity\n",
        "\n",
        "sentenceEmbeddings_numpy_arrays = [tensor.squeeze(0).detach().numpy() for tensor in sentenceEmbeddings]\n",
        "sentenceEmbeddings_numpy_array_of_lists = np.array([array.tolist() for array in sentenceEmbeddings_numpy_arrays])\n",
        "sentenceEmbeddings_numpy_array_of_lists.shape\n",
        "\n",
        "similarity_matrix = cosine_similarity(sentenceEmbeddings_numpy_array_of_lists)\n",
        "\n",
        "kmeans = KMeans(n_clusters=2, n_init = 'auto', random_state=0)\n",
        "kmeans.fit(similarity_matrix)\n",
        "\n",
        "cluster_assignments = kmeans.labels_\n",
        "\n",
        "outlier_idx_list = []\n",
        "for idx, label in enumerate(cluster_assignments):\n",
        "  if label == 1:\n",
        "    outlier_idx_list.append(idx)\n",
        "\n",
        "outlier_idx = np.array(outlier_idx_list)\n",
        "outlier_idx"
      ],
      "metadata": {
        "id": "kMxeyyyPE4w5",
        "colab": {
          "base_uri": "https://localhost:8080/"
        },
        "outputId": "881f05ef-5f55-445c-8f1d-62cc4a247bbf"
      },
      "execution_count": null,
      "outputs": [
        {
          "output_type": "execute_result",
          "data": {
            "text/plain": [
              "array([ 5,  9, 11, 27, 32, 50, 73, 74, 77, 95])"
            ]
          },
          "metadata": {},
          "execution_count": 27
        }
      ]
    },
    {
      "cell_type": "code",
      "source": [
        "# The following code shows that we have been able to separate the outliers perfectly :).\n",
        "for i in outlier_idx:\n",
        "  print(SENTENCES[i])"
      ],
      "metadata": {
        "colab": {
          "base_uri": "https://localhost:8080/"
        },
        "id": "frb3RfzeQjTP",
        "outputId": "b1c09ab2-f58a-4f9e-8da1-088866fed6b8"
      },
      "execution_count": null,
      "outputs": [
        {
          "output_type": "stream",
          "name": "stdout",
          "text": [
            "r² = (Σ(yi - ȳ)² - Σ(yi - ŷi)²) / Σ(yi - ȳ)²\n",
            "t = (x̄ - μ) / (s / √n)\n",
            "r = Σ[(xi - x̄)(yi - ȳ)] / √[Σ(xi - x̄)² Σ(yi - ȳ)²]\n",
            "ŷ = ∑[h(xᵢ;θ) / B]\n",
            "μ = (Σx) / n\n",
            "σ = √[Σ(x - μ)² / (n - 1)]\n",
            "χ² = Σ[(Oi - Ei)² / Ei]\n",
            "f(x) = (1 / (σ√2π)) * e^[-(x-μ)² / 2σ²]\n",
            "CI = x̄ ± tα/2 * (s / √n)\n",
            "logit(p) = β₀ + β₁x₁ + β₂x₂ + … + βₚxₚ\n"
          ]
        }
      ]
    },
    {
      "cell_type": "code",
      "source": [
        "check('2.1.7', outlier_idx)"
      ],
      "metadata": {
        "id": "XwyS_Tj3FH1F",
        "colab": {
          "base_uri": "https://localhost:8080/",
          "height": 64
        },
        "outputId": "34dd5f61-e429-433b-970a-f0195ce86743"
      },
      "execution_count": null,
      "outputs": [
        {
          "output_type": "execute_result",
          "data": {
            "text/plain": [
              "<IPython.core.display.Markdown object>"
            ],
            "text/markdown": "## Correct! 🎉"
          },
          "metadata": {},
          "execution_count": 29
        }
      ]
    },
    {
      "cell_type": "markdown",
      "source": [
        "Next, we will be covering the ```block```, which is referenced on line 148 and defined starting line 73:\n",
        "\n",
        "Each block consists of two parts: ```self.attn``` and ```self.mlpf```. We'll focus on ```self.attn```, as ```self.mlpf``` is conceptually just an MLP.\n",
        "\n",
        "The attention mechanism is the core of what makes a Transformer, a Transformer.\n"
      ],
      "metadata": {
        "id": "qZlD8CLwcwsu"
      }
    },
    {
      "cell_type": "markdown",
      "source": [
        "## Part 3: Self-Attention (~30 min)\n",
        "\n",
        "If you  ```model.transformer.h```, you will see a list of blocks, which each contain their own ```attn``` layer.\n",
        "\n",
        "Let's say we have a sentence: \"All the dogs bark at John for food\". Intuitively, we understand that the word \"bark\" refers to the dogs, rather than John. Does the model understand the same?\n",
        "\n",
        "We will be testing this out in a little experiment below.\n",
        "\n",
        "First, tokenize the sentence and store its embedding using ```wte``` (use only one sample).\n"
      ],
      "metadata": {
        "id": "BYl2teB8_vgD"
      }
    },
    {
      "cell_type": "code",
      "source": [
        "input_string = 'All the dogs bark at John for food'\n",
        "\n",
        "# Tokenize and extract embeddings\n",
        "x = tokenizer(input_string).expand(1, -1)\n",
        "x_emb = model.transformer.wte(x)\n",
        "x_emb.shape"
      ],
      "metadata": {
        "id": "GCvGrl2wAjH1",
        "colab": {
          "base_uri": "https://localhost:8080/"
        },
        "outputId": "baed5311-912d-4991-cb29-338335247815"
      },
      "execution_count": null,
      "outputs": [
        {
          "output_type": "execute_result",
          "data": {
            "text/plain": [
              "torch.Size([1, 8, 768])"
            ]
          },
          "metadata": {},
          "execution_count": 30
        }
      ]
    },
    {
      "cell_type": "markdown",
      "source": [
        "**TODO**:\n",
        "\n",
        "Next, go to line 29 where ```CausalSelfAttention``` is defined.\n",
        "\n",
        "We want to extract the attentions directly to see what's going on. After line 64, add ```return att```. This should come after ```att = F.softmax(att, dim=-1)``` and before ```att = self.attn_dropout(att)```. Next, comment out line 63: ```att = att.masked_fill(self.bias[:,:,:T,:T] == 0, float('-inf'))```. This is done so to save computation, but we want the whole attention matrix for interpretability purposes.\n",
        "\n",
        "Save ```model.py``` and return back to this notebook.\n",
        "\n",
        "Now, in the cell below, do the following steps:\n",
        "\n",
        "1. First, examine ```model.transformer.h```. You will notice a ```ModuleList``` containing 12 blocks. We'll only be using the first block in this list. Pass the tokenized sentence ```x_emb``` into this first block and extract the attention matrix for your sentence. The output should have shape 1x12x8x8, where 12 refers to the number of attention heads. (Note: the number of blocks is not the same as the number of attention heads, they just happen to be both 12!) Then, take the mean attention across all 12 attention heads so that you are left with a tensor of size 8x8. Hint: You can convert a tensor of dimension (1, 8, 8) to dimension (8, 8) by just calling ```.squeeze(0)``` on that tensor."
      ],
      "metadata": {
        "id": "P_ec_LeXsISu"
      }
    },
    {
      "cell_type": "code",
      "source": [
        "# Examine model.transformer.h\n",
        "model.transformer.h"
      ],
      "metadata": {
        "colab": {
          "base_uri": "https://localhost:8080/"
        },
        "id": "PwpjP4hC77-8",
        "outputId": "6ff705ec-ce8c-4856-b8b6-811194a9cdd4"
      },
      "execution_count": null,
      "outputs": [
        {
          "output_type": "execute_result",
          "data": {
            "text/plain": [
              "ModuleList(\n",
              "  (0-11): 12 x Block(\n",
              "    (ln_1): LayerNorm((768,), eps=1e-05, elementwise_affine=True)\n",
              "    (attn): CausalSelfAttention(\n",
              "      (c_attn): Linear(in_features=768, out_features=2304, bias=True)\n",
              "      (c_proj): Linear(in_features=768, out_features=768, bias=True)\n",
              "      (attn_dropout): Dropout(p=0.1, inplace=False)\n",
              "      (resid_dropout): Dropout(p=0.1, inplace=False)\n",
              "    )\n",
              "    (ln_2): LayerNorm((768,), eps=1e-05, elementwise_affine=True)\n",
              "    (mlp): ModuleDict(\n",
              "      (c_fc): Linear(in_features=768, out_features=3072, bias=True)\n",
              "      (c_proj): Linear(in_features=3072, out_features=768, bias=True)\n",
              "      (act): NewGELU()\n",
              "      (dropout): Dropout(p=0.1, inplace=False)\n",
              "    )\n",
              "  )\n",
              ")"
            ]
          },
          "metadata": {},
          "execution_count": 31
        }
      ]
    },
    {
      "cell_type": "code",
      "source": [
        "model.transformer.h[0]"
      ],
      "metadata": {
        "colab": {
          "base_uri": "https://localhost:8080/"
        },
        "id": "JxJMZDCn_kOm",
        "outputId": "a895071a-657f-46ff-bb23-2dcff7b511ba"
      },
      "execution_count": null,
      "outputs": [
        {
          "output_type": "execute_result",
          "data": {
            "text/plain": [
              "Block(\n",
              "  (ln_1): LayerNorm((768,), eps=1e-05, elementwise_affine=True)\n",
              "  (attn): CausalSelfAttention(\n",
              "    (c_attn): Linear(in_features=768, out_features=2304, bias=True)\n",
              "    (c_proj): Linear(in_features=768, out_features=768, bias=True)\n",
              "    (attn_dropout): Dropout(p=0.1, inplace=False)\n",
              "    (resid_dropout): Dropout(p=0.1, inplace=False)\n",
              "  )\n",
              "  (ln_2): LayerNorm((768,), eps=1e-05, elementwise_affine=True)\n",
              "  (mlp): ModuleDict(\n",
              "    (c_fc): Linear(in_features=768, out_features=3072, bias=True)\n",
              "    (c_proj): Linear(in_features=3072, out_features=768, bias=True)\n",
              "    (act): NewGELU()\n",
              "    (dropout): Dropout(p=0.1, inplace=False)\n",
              "  )\n",
              ")"
            ]
          },
          "metadata": {},
          "execution_count": 32
        }
      ]
    },
    {
      "cell_type": "code",
      "source": [
        " # Using only the first block, extract the attention matrix and take the mean over all 12 attention heads\n",
        "attn_mat = torch.mean(model.transformer.h[0].attn(model.transformer.h[0].ln_1(x_emb)), 1).squeeze(0)\n",
        "attn_mat.shape"
      ],
      "metadata": {
        "id": "2JHD2LUdDKdb",
        "colab": {
          "base_uri": "https://localhost:8080/"
        },
        "outputId": "70823482-efbc-4aa2-bff1-9432ff52a97b"
      },
      "execution_count": null,
      "outputs": [
        {
          "output_type": "execute_result",
          "data": {
            "text/plain": [
              "torch.Size([768])"
            ]
          },
          "metadata": {},
          "execution_count": 33
        }
      ]
    },
    {
      "cell_type": "code",
      "source": [
        "check('2.1.8', attn_mat)"
      ],
      "metadata": {
        "id": "1zYYJhNNOVhe",
        "colab": {
          "base_uri": "https://localhost:8080/",
          "height": 64
        },
        "outputId": "fdaa401e-d602-4fd8-8f99-b9d6adb9d651"
      },
      "execution_count": null,
      "outputs": [
        {
          "output_type": "execute_result",
          "data": {
            "text/plain": [
              "<IPython.core.display.Markdown object>"
            ],
            "text/markdown": "## Sorry, try again! 🤭"
          },
          "metadata": {},
          "execution_count": 34
        }
      ]
    },
    {
      "cell_type": "markdown",
      "source": [
        "\n",
        "2. At this point, you can also visualize the attention matrix by using the line ```plt.imshow(attn_mat)```. Next, we're interested in what the word \"bark\" is paying attention to. For each 8x8 tensor, extract the row that corresponds to the word \"bark\" (think about what index this is from the prompt). You should be left with a tensor of length 8."
      ],
      "metadata": {
        "id": "6BEgp60zEGGn"
      }
    },
    {
      "cell_type": "code",
      "source": [
        "# Run this cell to visualize what the attention matrix looks like\n",
        "plt.imshow(attn_mat.detach().numpy())"
      ],
      "metadata": {
        "id": "zjYCnt1dDNOg",
        "colab": {
          "base_uri": "https://localhost:8080/",
          "height": 448
        },
        "outputId": "3f22ec61-4566-4986-ddd8-42d351acc9be"
      },
      "execution_count": null,
      "outputs": [
        {
          "output_type": "execute_result",
          "data": {
            "text/plain": [
              "<matplotlib.image.AxesImage at 0x7fa94af21060>"
            ]
          },
          "metadata": {},
          "execution_count": 128
        },
        {
          "output_type": "display_data",
          "data": {
            "text/plain": [
              "<Figure size 640x480 with 1 Axes>"
            ],
            "image/png": "[encoded data removed]"
          },
          "metadata": {}
        }
      ]
    },
    {
      "cell_type": "code",
      "source": [
        "# Extract just the row for the word 'bark'\n",
        "attn_row = attn_mat[3, :]\n",
        "attn_row"
      ],
      "metadata": {
        "id": "VWE7s7cROg9w",
        "colab": {
          "base_uri": "https://localhost:8080/"
        },
        "outputId": "d543050e-0457-4abf-de5c-93a8375b4dee"
      },
      "execution_count": null,
      "outputs": [
        {
          "output_type": "execute_result",
          "data": {
            "text/plain": [
              "tensor([0.0462, 0.0504, 0.2238, 0.4431, 0.0538, 0.0411, 0.0542, 0.0876],\n",
              "       grad_fn=<SliceBackward0>)"
            ]
          },
          "metadata": {},
          "execution_count": 129
        }
      ]
    },
    {
      "cell_type": "code",
      "source": [
        "check('2.1.9', attn_row)"
      ],
      "metadata": {
        "id": "1_PfU3gfOiNL",
        "colab": {
          "base_uri": "https://localhost:8080/",
          "height": 64
        },
        "outputId": "54737c3f-b2b0-439d-e660-ad5be5d3803f"
      },
      "execution_count": null,
      "outputs": [
        {
          "output_type": "execute_result",
          "data": {
            "text/plain": [
              "<IPython.core.display.Markdown object>"
            ],
            "text/markdown": "## Correct! 🎉"
          },
          "metadata": {},
          "execution_count": 130
        }
      ]
    },
    {
      "cell_type": "markdown",
      "source": [
        "4. Finally, return a dictionary that has each word in the sentence as a key and its attention score as the value (as a numpy float). It should look something like ```{'All': 0.01, 'the': 0.22, ...}```\n",
        "\n",
        "Which word does \"bark\" attend to the most (besides \"bark\")? Between the dog and John, which word does \"bark\" attend more strongly towards?"
      ],
      "metadata": {
        "id": "F0exj5szLexv"
      }
    },
    {
      "cell_type": "code",
      "source": [
        "# Populate dictionary of words and values\n",
        "# Remember to convert the attention scores to a numpy float!\n",
        "words = input_string.split(\" \")\n",
        "print(words)\n",
        "attn_dict = {}\n",
        "for i, word in enumerate(words):\n",
        "  attn_dict[word] = attn_mat[3, i].detach().numpy().item()\n",
        "\n",
        "\n",
        "print(attn_dict)"
      ],
      "metadata": {
        "id": "uV_HS0-mMnqE",
        "colab": {
          "base_uri": "https://localhost:8080/"
        },
        "outputId": "4df846d9-d15a-4392-858a-a4eea0ae30d7"
      },
      "execution_count": null,
      "outputs": [
        {
          "output_type": "stream",
          "name": "stdout",
          "text": [
            "['All', 'the', 'dogs', 'bark', 'at', 'John', 'for', 'food']\n",
            "{'All': 0.046199724078178406, 'the': 0.05036146938800812, 'dogs': 0.2238013595342636, 'bark': 0.44305381178855896, 'at': 0.05376717820763588, 'John': 0.041065093129873276, 'for': 0.05417308211326599, 'food': 0.08757824450731277}\n"
          ]
        }
      ]
    },
    {
      "cell_type": "code",
      "source": [
        "# If this check isn't working, just make sure 'dog' has the highest score (next to 'bark')\n",
        "check('2.1.10', attn_dict)"
      ],
      "metadata": {
        "id": "AiGlPhuhO9jw",
        "colab": {
          "base_uri": "https://localhost:8080/",
          "height": 64
        },
        "outputId": "766605e2-fb4e-4621-f682-abe13d2d41df"
      },
      "execution_count": null,
      "outputs": [
        {
          "output_type": "execute_result",
          "data": {
            "text/plain": [
              "<IPython.core.display.Markdown object>"
            ],
            "text/markdown": "## Correct! 🎉"
          },
          "metadata": {},
          "execution_count": 132
        }
      ]
    },
    {
      "cell_type": "markdown",
      "source": [
        "Let's try this for a sentence of your choice. (Sometimes, the tokenizer might split up a word into two pieces, so pick your sentences and attentions carefully)\n",
        "\n",
        "In the cell below, combine the code you wrote in the lines above and process the new input string to return the attention dictionary."
      ],
      "metadata": {
        "id": "qN2w2B3JLkiZ"
      }
    },
    {
      "cell_type": "code",
      "source": [
        "input_string = 'Insert your sentence here'\n",
        "\n",
        "# Tokenize and extract embeddings\n",
        "x = tokenizer(input_string).expand(1, -1)\n",
        "x_emb = model.transformer.wte(x)\n",
        "\n",
        "# Using only the first block, extract the attention matrix and take the mean over all 12 attention heads\n",
        "attn_mat = torch.mean(model.transformer.h[0].attn(model.transformer.h[0].ln_1(x_emb)), 1).squeeze(0)\n",
        "\n",
        "words = input_string.split(\" \")\n",
        "attn_dict = {}\n",
        "for i, word in enumerate(words):\n",
        "  attn_dict[word] = attn_mat[3, i].detach().numpy().item()\n",
        "\n",
        "\n",
        "print(attn_dict)\n",
        "\n",
        "# attn_dict = ...\n",
        "# print(attn_dict)"
      ],
      "metadata": {
        "id": "GDhsjLqnRZAK",
        "colab": {
          "base_uri": "https://localhost:8080/"
        },
        "outputId": "2801276c-a8a1-458b-ff8f-a31016e6d0e6"
      },
      "execution_count": null,
      "outputs": [
        {
          "output_type": "stream",
          "name": "stdout",
          "text": [
            "{'Insert': 0.2770989239215851, 'your': 0.12712107598781586, 'sentence': 0.17141000926494598, 'here': 0.42437002062797546}\n"
          ]
        }
      ]
    },
    {
      "cell_type": "code",
      "source": [
        "check('2.1.11', attn_dict)"
      ],
      "metadata": {
        "id": "iN3tpUJKXwo8",
        "colab": {
          "base_uri": "https://localhost:8080/",
          "height": 64
        },
        "outputId": "f7c8af69-0bd9-45d3-99d2-68867ef80c0a"
      },
      "execution_count": null,
      "outputs": [
        {
          "output_type": "execute_result",
          "data": {
            "text/plain": [
              "<IPython.core.display.Markdown object>"
            ],
            "text/markdown": "## Correct! 🎉"
          },
          "metadata": {},
          "execution_count": 135
        }
      ]
    },
    {
      "cell_type": "markdown",
      "source": [
        "Don't worry if this part is a bit involved! Feel free to ask away on Slack. (Think through what each dimension is referring to at each step).\n",
        "\n",
        "Do the attention scores still make sense? It would be great to share your thoughts! (You can alter the block you are examining, or even the method of taking the average over all heads).\n",
        "\n",
        "At the end of the day, interpreting attention scores are a finicky business, so don't be discouraged if you aren't getting exactly what you're looking for!"
      ],
      "metadata": {
        "id": "kIYkhOngkJI9"
      }
    },
    {
      "cell_type": "markdown",
      "source": [
        "## Part 4: Outputs (~20 min)\n",
        "\n",
        "Together, the input preprocessing, embeddings, and self-attention are the key parts of a transformer. There are many other components that make it work, and we will conver some of them next week (and other parts, you can familiarize on your own).\n",
        "\n",
        "Finally, we'll focus on how the output is processed.\n",
        "\n",
        "Delete the ```return att``` line you've injected in script, and uncomment out line 63. Return to line 293: ```logits, _ = self(idx_cond)```. We can recreate this line below:"
      ],
      "metadata": {
        "id": "dTuTmES6AT4C"
      }
    },
    {
      "cell_type": "code",
      "source": [
        "# Just run the line below!\n",
        "\n",
        "input_string = 'To make bread, first add'\n",
        "x = tokenizer(input_string)\n",
        "\n",
        "logits_orig, _ = model(x)"
      ],
      "metadata": {
        "id": "wP40C3o5xwR0"
      },
      "execution_count": null,
      "outputs": []
    },
    {
      "cell_type": "markdown",
      "source": [
        "Examine the size of ```logits```. What does each dimension refer to?\n",
        "\n",
        "Next, we only want to know what the model's next word prediction is after the final word of our input. In the cell below, extract the logits from the last word."
      ],
      "metadata": {
        "id": "QlCvTtQPyAbH"
      }
    },
    {
      "cell_type": "code",
      "source": [
        "x"
      ],
      "metadata": {
        "colab": {
          "base_uri": "https://localhost:8080/"
        },
        "id": "oCkW-92zx_Mc",
        "outputId": "da7494bc-5e0f-4a18-c766-6a2678396bfe"
      },
      "execution_count": null,
      "outputs": [
        {
          "output_type": "execute_result",
          "data": {
            "text/plain": [
              "tensor([[2514,  787, 8509,   11,  717,  751]])"
            ]
          },
          "metadata": {},
          "execution_count": 137
        }
      ]
    },
    {
      "cell_type": "code",
      "source": [
        "logits_orig.shape"
      ],
      "metadata": {
        "colab": {
          "base_uri": "https://localhost:8080/"
        },
        "id": "-Wb_Moldx6Nb",
        "outputId": "9ee667f3-1e60-4117-dc42-b0966eaf9329"
      },
      "execution_count": null,
      "outputs": [
        {
          "output_type": "execute_result",
          "data": {
            "text/plain": [
              "torch.Size([1, 6, 50257])"
            ]
          },
          "metadata": {},
          "execution_count": 138
        }
      ]
    },
    {
      "cell_type": "code",
      "source": [
        "# Just extract the last in the sequence. Think carefully about which dimension you are extracting from!\n",
        "logits = logits_orig[:, -1, :]\n",
        "logits.shape"
      ],
      "metadata": {
        "id": "dByhQIEPRQ_8",
        "colab": {
          "base_uri": "https://localhost:8080/"
        },
        "outputId": "ff92cf25-6abe-4c09-b574-b2e04f36f9ff"
      },
      "execution_count": null,
      "outputs": [
        {
          "output_type": "execute_result",
          "data": {
            "text/plain": [
              "torch.Size([1, 50257])"
            ]
          },
          "metadata": {},
          "execution_count": 141
        }
      ]
    },
    {
      "cell_type": "code",
      "source": [
        "check('2.1.12', logits)"
      ],
      "metadata": {
        "id": "bAey_PvFRjVQ",
        "colab": {
          "base_uri": "https://localhost:8080/",
          "height": 64
        },
        "outputId": "8e9d154c-5c39-4c1e-9f59-fc400da26d94"
      },
      "execution_count": null,
      "outputs": [
        {
          "output_type": "execute_result",
          "data": {
            "text/plain": [
              "<IPython.core.display.Markdown object>"
            ],
            "text/markdown": "## Correct! 🎉"
          },
          "metadata": {},
          "execution_count": 142
        }
      ]
    },
    {
      "cell_type": "markdown",
      "source": [
        "In the cell below, apply the softmax layer to the logits. This makes it so that all the probabilities assigned to each vocab word sum to one."
      ],
      "metadata": {
        "id": "vqXEbxUJ0Qcl"
      }
    },
    {
      "cell_type": "code",
      "source": [
        "# Just copy-paste line 301\n",
        "probs = F.softmax(logits, dim=-1)"
      ],
      "metadata": {
        "id": "fmUSZSsVSBGy"
      },
      "execution_count": null,
      "outputs": []
    },
    {
      "cell_type": "markdown",
      "source": [
        "Next, compute the top ten predictions using ```torch.topk```. Then, populate a dictionary ```scores_dict``` where the keys are ten tokens and the values are their relative probabilities. The keys should be strings and the values should be numpy floats. You'll have to do some Pytorch tensor manipulation and data type conversions here! (Remember, use ```tokenizer.decode()``` to convert indices back into the words they refer to)"
      ],
      "metadata": {
        "id": "TtAaTQ9w1Ngk"
      }
    },
    {
      "cell_type": "code",
      "source": [
        "# Extract top 10 using torch.topk\n",
        "top10 = torch.topk(probs, 10)\n",
        "# print(top10)\n",
        "tokens = tokenizer.decode(top10.indices[0]).split(\" \")[1:]\n",
        "tokens\n",
        "# Populate the dictionary\n",
        "scores_dict = {}\n",
        "i = 0\n",
        "for prob in top10.values[0]:\n",
        "  scores_dict[tokens[i]] = prob.item()\n",
        "  i += 1\n",
        "\n",
        "scores_dict"
      ],
      "metadata": {
        "id": "_m6CgwldTa37",
        "colab": {
          "base_uri": "https://localhost:8080/"
        },
        "outputId": "dcde2f68-50e9-47ec-aa18-943586840a2f"
      },
      "execution_count": null,
      "outputs": [
        {
          "output_type": "execute_result",
          "data": {
            "text/plain": [
              "{'butter': 0.08239736407995224,\n",
              " 'water': 0.0664890855550766,\n",
              " 'salt': 0.06324569880962372,\n",
              " 'flour': 0.054999563843011856,\n",
              " 'the': 0.05380918085575104,\n",
              " 'milk': 0.04789065569639206,\n",
              " 'it': 0.029871731996536255,\n",
              " 'yeast': 0.027709372341632843,\n",
              " 'a': 0.024515453726053238,\n",
              " 'sugar': 0.022190995514392853}"
            ]
          },
          "metadata": {},
          "execution_count": 158
        }
      ]
    },
    {
      "cell_type": "code",
      "source": [
        "check('2.1.13', scores_dict)"
      ],
      "metadata": {
        "id": "ehobAIsSS5Fd",
        "colab": {
          "base_uri": "https://localhost:8080/",
          "height": 64
        },
        "outputId": "94a29383-41d7-4a89-a6b5-32aca64ac9a1"
      },
      "execution_count": null,
      "outputs": [
        {
          "output_type": "execute_result",
          "data": {
            "text/plain": [
              "<IPython.core.display.Markdown object>"
            ],
            "text/markdown": "## Correct! 🎉"
          },
          "metadata": {},
          "execution_count": 159
        }
      ]
    },
    {
      "cell_type": "markdown",
      "source": [
        "You'll notice in the code, each logit is divided by a temperature. This smooths out the predictions such that there is less of a relative difference between the logits for each word.\n",
        "\n",
        "Let's see how this affects the relative predicted probabilities.\n",
        "Now, divide logits by a constant ```temperature=1.5```. Repeat the same steps in as the previous question and produce ```scores_dict_temp```, which is the scores after using temperature 1.5."
      ],
      "metadata": {
        "id": "y6vy6nga2lmR"
      }
    },
    {
      "cell_type": "code",
      "source": [
        "# Change logits by dividing it by 1.5\n",
        "logits = logits / 1.5\n",
        "\n",
        "# Produce scores_dict again\n",
        "probs = F.softmax(logits, dim=-1)\n",
        "top10 = torch.topk(probs, 10)\n",
        "\n",
        "tokens = tokenizer.decode(top10.indices[0]).split(\" \")[1:]\n",
        "tokens\n",
        "# Populate the dictionary\n",
        "scores_dict_temp = {}\n",
        "i = 0\n",
        "for prob in top10.values[0]:\n",
        "  scores_dict_temp[tokens[i]] = prob.item()\n",
        "  i += 1\n",
        "\n",
        "scores_dict_temp"
      ],
      "metadata": {
        "id": "rMuIMdkzUQMP",
        "colab": {
          "base_uri": "https://localhost:8080/"
        },
        "outputId": "0803022a-bec6-4ec3-a0df-17c3553a71c4"
      },
      "execution_count": null,
      "outputs": [
        {
          "output_type": "execute_result",
          "data": {
            "text/plain": [
              "{'butter': 0.025492284446954727,\n",
              " 'water': 0.022095339372754097,\n",
              " 'salt': 0.021370813250541687,\n",
              " 'flour': 0.019470302388072014,\n",
              " 'the': 0.01918834261596203,\n",
              " 'milk': 0.017754171043634415,\n",
              " 'it': 0.012961065396666527,\n",
              " 'yeast': 0.012327780947089195,\n",
              " 'a': 0.0113612599670887,\n",
              " 'sugar': 0.010631266050040722}"
            ]
          },
          "metadata": {},
          "execution_count": 160
        }
      ]
    },
    {
      "cell_type": "code",
      "source": [
        "check('2.1.14', tuple([scores_dict, scores_dict_temp]))"
      ],
      "metadata": {
        "id": "k2oDjs8ZUdo8",
        "colab": {
          "base_uri": "https://localhost:8080/",
          "height": 64
        },
        "outputId": "a6129e1e-154d-4257-eb4a-c063ff2cda75"
      },
      "execution_count": null,
      "outputs": [
        {
          "output_type": "execute_result",
          "data": {
            "text/plain": [
              "<IPython.core.display.Markdown object>"
            ],
            "text/markdown": "## Correct! 🎉"
          },
          "metadata": {},
          "execution_count": 161
        }
      ]
    },
    {
      "cell_type": "markdown",
      "source": [
        "Notice that it does not change the relative order of probabilities.\n",
        "\n",
        "However, it will change their chance of being picked if we sample them at random.\n",
        "\n",
        "In the cell below, sample the next word using ```torch.multinomial```. After decoding the word, does the choice surprise you?\n",
        "\n",
        "Try running a few examples by changing ```num_samples``` to 10."
      ],
      "metadata": {
        "id": "jS0OeJEjznnt"
      }
    },
    {
      "cell_type": "code",
      "source": [
        "# Compute next_word by using torch.multinomial\n",
        "next_word = torch.multinomial(probs, 10)\n",
        "\n",
        "# Decode and convert to string\n",
        "next_word = tokenizer.decode(next_word[0])\n",
        "print(next_word)"
      ],
      "metadata": {
        "id": "g2b6V4QFVU1J",
        "colab": {
          "base_uri": "https://localhost:8080/"
        },
        "outputId": "ddafac0c-e047-4a6b-b0e0-67df704f57c3"
      },
      "execution_count": null,
      "outputs": [
        {
          "output_type": "stream",
          "name": "stdout",
          "text": [
            " ale rice wine kale olive starch finely con crust something\n"
          ]
        }
      ]
    },
    {
      "cell_type": "markdown",
      "source": [
        "You'll notice that by sampling, we get a more diverse choice of words, but perhaps more random.\n",
        "\n",
        "In general, this is a trade-off for large language models -- we want more creativity, but it risks non-sense responses!\n",
        "___\n",
        "\n",
        "## Summary\n",
        "\n",
        "Congrats! You got through the main parts of the GPT model!\n",
        "\n",
        "Feel free to continue playing around with prompts from the questions in this assignment and see if any responses surprise you!"
      ],
      "metadata": {
        "id": "43mgu2J6zseY"
      }
    }
  ]
}